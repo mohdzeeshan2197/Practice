{
 "cells": [
  {
   "cell_type": "markdown",
   "id": "5906ba2c",
   "metadata": {},
   "source": [
    "### Create a function which will take a list as an argument and return the product of all the numbers after creating a flat list.\n",
    "###### Use the below-given list as an argument for your function.\n",
    "list1 = [1,2,3,4, [44,55,66, True], False, (34,56,78,89,34), {1,2,3,3,2,1}, {1:34, \"key2\": [55, 67, 78, 89], 4: (45, 22, 61, 34)}, [56, 'data science'], 'Machine Learning']\n",
    "###### Note: you must extract numeric keys and values of the dictionary also."
   ]
  },
  {
   "cell_type": "code",
   "execution_count": 6,
   "id": "e1e5dc69",
   "metadata": {},
   "outputs": [],
   "source": [
    "list1 = [1,2,3,4, [44,55,66, True], False, (34,56,78,89,34), {1,2,3,3,2,1}, {1:34, \"key2\": [55, 67, 78, 89], 4: (45, 22, 61, 34)}, [56, 'data science'], 'Machine Learning']"
   ]
  },
  {
   "cell_type": "code",
   "execution_count": 7,
   "id": "3ffdde5a",
   "metadata": {},
   "outputs": [
    {
     "data": {
      "text/plain": [
       "[1,\n",
       " 2,\n",
       " 3,\n",
       " 4,\n",
       " [44, 55, 66, True],\n",
       " False,\n",
       " (34, 56, 78, 89, 34),\n",
       " {1, 2, 3},\n",
       " {1: 34, 'key2': [55, 67, 78, 89], 4: (45, 22, 61, 34)},\n",
       " [56, 'data science'],\n",
       " 'Machine Learning']"
      ]
     },
     "execution_count": 7,
     "metadata": {},
     "output_type": "execute_result"
    }
   ],
   "source": [
    "list1"
   ]
  },
  {
   "cell_type": "code",
   "execution_count": null,
   "id": "b5ab0394",
   "metadata": {
    "scrolled": true
   },
   "outputs": [],
   "source": []
  },
  {
   "cell_type": "code",
   "execution_count": 33,
   "id": "456d0d76",
   "metadata": {},
   "outputs": [],
   "source": [
    "def flat_list(l):\n",
    "    int_flat= []\n",
    "    flat = []\n",
    "    pro = 1\n",
    "    for i in list1:\n",
    "        if type(i) == list or type(i) == tuple or type(i) == set:\n",
    "            for element in i:\n",
    "                flat.append(element)\n",
    "        elif type(i) == dict:\n",
    "            temp_list = list(i.items())\n",
    "            for i in temp_list:\n",
    "                for element in i:\n",
    "                    if type(element) == set or type(element) == tuple or type(element) == list:\n",
    "                        for j in element:\n",
    "                            flat.append(j)\n",
    "                    else:\n",
    "                        flat.append(element)\n",
    "        else:\n",
    "            flat.append(i)\n",
    "    for k in flat:\n",
    "        if type(k) == int or type(k) == float:\n",
    "            int_flat.append(k)\n",
    "            pro = pro * k\n",
    "    print(\"The flat list :\",flat)\n",
    "    print(\"Integer List: \",int_flat)\n",
    "    print('The product:',pro)\n",
    "    \n",
    "            "
   ]
  },
  {
   "cell_type": "code",
   "execution_count": 34,
   "id": "46429756",
   "metadata": {},
   "outputs": [
    {
     "name": "stdout",
     "output_type": "stream",
     "text": [
      "The flat list : [1, 2, 3, 4, 44, 55, 66, True, False, 34, 56, 78, 89, 34, 1, 2, 3, 1, 34, 'key2', 55, 67, 78, 89, 4, 45, 22, 61, 34, 56, 'data science', 'Machine Learning']\n",
      "Integer List:  [1, 2, 3, 4, 44, 55, 66, 34, 56, 78, 89, 34, 1, 2, 3, 1, 34, 55, 67, 78, 89, 4, 45, 22, 61, 34, 56]\n",
      "The product: 4134711838987085478833841242112000\n"
     ]
    }
   ],
   "source": [
    "flat_list(list1)"
   ]
  },
  {
   "cell_type": "markdown",
   "id": "bd6ca485",
   "metadata": {},
   "source": [
    "#### Write a python program for encrypting a message sent to you by your friend. The logic of encryption should be such that, for a the output should be z. For b, the output should be y. For c, the output should be x respectively. Also, the whitespace should be replaced with a dollar sign. Keep the punctuation marks unchanged.\n",
    "\n",
    "Input Sentence: I want to become a Data Scientist."
   ]
  },
  {
   "cell_type": "code",
   "execution_count": 78,
   "id": "3f103d03",
   "metadata": {},
   "outputs": [],
   "source": [
    "s = \"I want to become a Data Scientist\""
   ]
  },
  {
   "cell_type": "code",
   "execution_count": 84,
   "id": "bc51a459",
   "metadata": {},
   "outputs": [
    {
     "name": "stdout",
     "output_type": "stream",
     "text": [
      "I$wznt$to$yexome$z$Dztz$Sxientist\n"
     ]
    }
   ],
   "source": [
    "for i in  range(len(s)):\n",
    "    if s[i] == 'a':\n",
    "        s = s.replace('a','z')\n",
    "    elif s[i] == 'b':\n",
    "        s= s.replace('b','y')\n",
    "    elif s[i] == 'c':\n",
    "        s = s.replace('c','x')\n",
    "    elif s[i] == ' ':\n",
    "        s = s.replace(' ','$')\n",
    "print(s)\n",
    "    "
   ]
  }
 ],
 "metadata": {
  "kernelspec": {
   "display_name": "Python 3 (ipykernel)",
   "language": "python",
   "name": "python3"
  },
  "language_info": {
   "codemirror_mode": {
    "name": "ipython",
    "version": 3
   },
   "file_extension": ".py",
   "mimetype": "text/x-python",
   "name": "python",
   "nbconvert_exporter": "python",
   "pygments_lexer": "ipython3",
   "version": "3.9.16"
  }
 },
 "nbformat": 4,
 "nbformat_minor": 5
}
