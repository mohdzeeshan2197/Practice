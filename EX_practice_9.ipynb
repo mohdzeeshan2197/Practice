{
 "cells": [
  {
   "cell_type": "code",
   "execution_count": 1,
   "id": "4a1cb56a",
   "metadata": {},
   "outputs": [],
   "source": [
    "class test:\n",
    "    \n",
    "    def __init__(self,a,b):\n",
    "        self.a = a\n",
    "        self.b = b"
   ]
  },
  {
   "cell_type": "code",
   "execution_count": 2,
   "id": "1ea33a0b",
   "metadata": {},
   "outputs": [],
   "source": [
    "t = test(33,55)"
   ]
  },
  {
   "cell_type": "code",
   "execution_count": 3,
   "id": "ec58e02d",
   "metadata": {},
   "outputs": [
    {
     "data": {
      "text/plain": [
       "33"
      ]
     },
     "execution_count": 3,
     "metadata": {},
     "output_type": "execute_result"
    }
   ],
   "source": [
    "t.a"
   ]
  },
  {
   "cell_type": "code",
   "execution_count": 4,
   "id": "25150787",
   "metadata": {},
   "outputs": [
    {
     "data": {
      "text/plain": [
       "55"
      ]
     },
     "execution_count": 4,
     "metadata": {},
     "output_type": "execute_result"
    }
   ],
   "source": [
    "t.b"
   ]
  },
  {
   "cell_type": "code",
   "execution_count": 5,
   "id": "fb328bc6",
   "metadata": {},
   "outputs": [],
   "source": [
    "t.a = 123"
   ]
  },
  {
   "cell_type": "code",
   "execution_count": 6,
   "id": "397833a7",
   "metadata": {},
   "outputs": [
    {
     "data": {
      "text/plain": [
       "123"
      ]
     },
     "execution_count": 6,
     "metadata": {},
     "output_type": "execute_result"
    }
   ],
   "source": [
    "t.a"
   ]
  },
  {
   "cell_type": "code",
   "execution_count": 7,
   "id": "8b42bacf",
   "metadata": {},
   "outputs": [],
   "source": [
    "class car:\n",
    "    \n",
    "    def __init__(self,car_name,model,year,speed):\n",
    "        \n",
    "        self.__car_name = car_name\n",
    "        self.__model = model\n",
    "        self.__year = year\n",
    "        self.__speed = 0\n",
    "        \n",
    "    def set_speed(self,speed):\n",
    "        self.__speed = speed\n",
    "    \n",
    "    def get_speed(self):\n",
    "        return self.__speed\n",
    "        "
   ]
  },
  {
   "cell_type": "code",
   "execution_count": 8,
   "id": "039d2e8f",
   "metadata": {},
   "outputs": [],
   "source": [
    "c = car('Toyota','SUV',2024,23)"
   ]
  },
  {
   "cell_type": "code",
   "execution_count": 9,
   "id": "688b9c58",
   "metadata": {},
   "outputs": [
    {
     "data": {
      "text/plain": [
       "2024"
      ]
     },
     "execution_count": 9,
     "metadata": {},
     "output_type": "execute_result"
    }
   ],
   "source": [
    "c._car__year"
   ]
  },
  {
   "cell_type": "code",
   "execution_count": 10,
   "id": "712f6dfa",
   "metadata": {},
   "outputs": [],
   "source": [
    "c.set_speed(55)"
   ]
  },
  {
   "cell_type": "code",
   "execution_count": 11,
   "id": "a9194db2",
   "metadata": {},
   "outputs": [
    {
     "data": {
      "text/plain": [
       "55"
      ]
     },
     "execution_count": 11,
     "metadata": {},
     "output_type": "execute_result"
    }
   ],
   "source": [
    "c.get_speed()"
   ]
  },
  {
   "cell_type": "code",
   "execution_count": 12,
   "id": "c29ae1eb",
   "metadata": {},
   "outputs": [],
   "source": [
    "class bank_account:\n",
    "    \n",
    "    def __init__(self,balance):\n",
    "        self.__balance = balance\n",
    "    \n",
    "    def set_balance(self,balance):\n",
    "        self.__balance = balance\n",
    "        \n",
    "    def get_balance(self):\n",
    "        return self.__balance\n",
    "    \n",
    "    def withdraw(self,amount):\n",
    "        if self.__balance >= amount:\n",
    "            self.__balance -= amount\n",
    "        else:\n",
    "            return False\n",
    "    def deposit(self,amount):\n",
    "        self.__balance += amount    "
   ]
  },
  {
   "cell_type": "code",
   "execution_count": 13,
   "id": "7a2e4089",
   "metadata": {},
   "outputs": [],
   "source": [
    "rohan = bank_account(1000)"
   ]
  },
  {
   "cell_type": "code",
   "execution_count": 14,
   "id": "58c2c786",
   "metadata": {},
   "outputs": [
    {
     "data": {
      "text/plain": [
       "1000"
      ]
     },
     "execution_count": 14,
     "metadata": {},
     "output_type": "execute_result"
    }
   ],
   "source": [
    "rohan.get_balance()"
   ]
  },
  {
   "cell_type": "code",
   "execution_count": 15,
   "id": "cae9cfb5",
   "metadata": {},
   "outputs": [],
   "source": [
    "rohan.deposit(2000)"
   ]
  },
  {
   "cell_type": "code",
   "execution_count": 16,
   "id": "e962fd61",
   "metadata": {},
   "outputs": [
    {
     "data": {
      "text/plain": [
       "3000"
      ]
     },
     "execution_count": 16,
     "metadata": {},
     "output_type": "execute_result"
    }
   ],
   "source": [
    "rohan.get_balance()"
   ]
  },
  {
   "cell_type": "code",
   "execution_count": 17,
   "id": "5981f645",
   "metadata": {},
   "outputs": [],
   "source": [
    "rohan.withdraw(500)"
   ]
  },
  {
   "cell_type": "code",
   "execution_count": 18,
   "id": "5652c666",
   "metadata": {},
   "outputs": [
    {
     "data": {
      "text/plain": [
       "2500"
      ]
     },
     "execution_count": 18,
     "metadata": {},
     "output_type": "execute_result"
    }
   ],
   "source": [
    "rohan.get_balance()"
   ]
  },
  {
   "cell_type": "code",
   "execution_count": 19,
   "id": "eece0b9e",
   "metadata": {},
   "outputs": [
    {
     "data": {
      "text/plain": [
       "False"
      ]
     },
     "execution_count": 19,
     "metadata": {},
     "output_type": "execute_result"
    }
   ],
   "source": [
    "rohan.withdraw(5000)"
   ]
  },
  {
   "cell_type": "code",
   "execution_count": null,
   "id": "e5eb0d56",
   "metadata": {},
   "outputs": [],
   "source": []
  },
  {
   "cell_type": "code",
   "execution_count": 20,
   "id": "a0e4e1e1",
   "metadata": {},
   "outputs": [],
   "source": [
    "class test:\n",
    "    def demo(self):\n",
    "        return \"This is my Test class function\"\n",
    "class test1(test):\n",
    "    pass\n",
    "    "
   ]
  },
  {
   "cell_type": "code",
   "execution_count": 21,
   "id": "78cdf495",
   "metadata": {},
   "outputs": [],
   "source": [
    "t = test()"
   ]
  },
  {
   "cell_type": "code",
   "execution_count": 22,
   "id": "3baf57a0",
   "metadata": {},
   "outputs": [
    {
     "data": {
      "text/plain": [
       "'This is my Test class function'"
      ]
     },
     "execution_count": 22,
     "metadata": {},
     "output_type": "execute_result"
    }
   ],
   "source": [
    "t.demo()"
   ]
  },
  {
   "cell_type": "code",
   "execution_count": 23,
   "id": "6a2dc3e6",
   "metadata": {},
   "outputs": [],
   "source": [
    "t1 = test1()"
   ]
  },
  {
   "cell_type": "code",
   "execution_count": 24,
   "id": "ceaa139c",
   "metadata": {},
   "outputs": [
    {
     "data": {
      "text/plain": [
       "'This is my Test class function'"
      ]
     },
     "execution_count": 24,
     "metadata": {},
     "output_type": "execute_result"
    }
   ],
   "source": [
    "t1.demo()"
   ]
  },
  {
   "cell_type": "code",
   "execution_count": 25,
   "id": "c1bd5802",
   "metadata": {},
   "outputs": [],
   "source": [
    "class class1:\n",
    "    def demo1(self):\n",
    "        return \"this is my class 1 method\""
   ]
  },
  {
   "cell_type": "code",
   "execution_count": 26,
   "id": "6abdcda8",
   "metadata": {},
   "outputs": [],
   "source": [
    "class class2(class1):\n",
    "    def demo2(self):\n",
    "        return \"this is my class 2 method\""
   ]
  },
  {
   "cell_type": "code",
   "execution_count": 27,
   "id": "689249d2",
   "metadata": {},
   "outputs": [],
   "source": [
    "class class3(class2):\n",
    "    pass  "
   ]
  },
  {
   "cell_type": "code",
   "execution_count": 28,
   "id": "a611e3a6",
   "metadata": {},
   "outputs": [],
   "source": [
    "obj3 = class3()"
   ]
  },
  {
   "cell_type": "code",
   "execution_count": 29,
   "id": "d3673e5b",
   "metadata": {},
   "outputs": [
    {
     "data": {
      "text/plain": [
       "'this is my class 1 method'"
      ]
     },
     "execution_count": 29,
     "metadata": {},
     "output_type": "execute_result"
    }
   ],
   "source": [
    "obj3.demo1()"
   ]
  },
  {
   "cell_type": "code",
   "execution_count": 30,
   "id": "f6a2e34c",
   "metadata": {},
   "outputs": [
    {
     "data": {
      "text/plain": [
       "'this is my class 2 method'"
      ]
     },
     "execution_count": 30,
     "metadata": {},
     "output_type": "execute_result"
    }
   ],
   "source": [
    "obj3.demo2()"
   ]
  },
  {
   "cell_type": "code",
   "execution_count": 31,
   "id": "69ebd9fa",
   "metadata": {},
   "outputs": [],
   "source": [
    "obj2 = class2()"
   ]
  },
  {
   "cell_type": "code",
   "execution_count": 32,
   "id": "5d99f844",
   "metadata": {},
   "outputs": [
    {
     "data": {
      "text/plain": [
       "'this is my class 1 method'"
      ]
     },
     "execution_count": 32,
     "metadata": {},
     "output_type": "execute_result"
    }
   ],
   "source": [
    "obj2.demo1()"
   ]
  },
  {
   "cell_type": "code",
   "execution_count": 33,
   "id": "a18f32cd",
   "metadata": {},
   "outputs": [
    {
     "ename": "NameError",
     "evalue": "name 'obj' is not defined",
     "output_type": "error",
     "traceback": [
      "\u001b[1;31m---------------------------------------------------------------------------\u001b[0m",
      "\u001b[1;31mNameError\u001b[0m                                 Traceback (most recent call last)",
      "Cell \u001b[1;32mIn[33], line 1\u001b[0m\n\u001b[1;32m----> 1\u001b[0m \u001b[43mobj\u001b[49m\u001b[38;5;241m.\u001b[39mdemo2()\n",
      "\u001b[1;31mNameError\u001b[0m: name 'obj' is not defined"
     ]
    }
   ],
   "source": [
    "obj.demo2()"
   ]
  },
  {
   "cell_type": "code",
   "execution_count": 34,
   "id": "5b9c9d11",
   "metadata": {},
   "outputs": [],
   "source": [
    "obj1 = class1()"
   ]
  },
  {
   "cell_type": "code",
   "execution_count": 35,
   "id": "9416f3d6",
   "metadata": {},
   "outputs": [
    {
     "data": {
      "text/plain": [
       "'this is my class 1 method'"
      ]
     },
     "execution_count": 35,
     "metadata": {},
     "output_type": "execute_result"
    }
   ],
   "source": [
    "obj1.demo1()"
   ]
  },
  {
   "cell_type": "code",
   "execution_count": null,
   "id": "bacf51af",
   "metadata": {},
   "outputs": [],
   "source": []
  },
  {
   "cell_type": "code",
   "execution_count": 36,
   "id": "01b3eb0c",
   "metadata": {},
   "outputs": [],
   "source": [
    "class abc1:\n",
    "    def a(self):\n",
    "        return \"this is Class A\"\n"
   ]
  },
  {
   "cell_type": "code",
   "execution_count": 37,
   "id": "32bf959d",
   "metadata": {},
   "outputs": [],
   "source": [
    "class abc2:\n",
    "    def b(self):\n",
    "        return \"this is class B\""
   ]
  },
  {
   "cell_type": "code",
   "execution_count": 38,
   "id": "89304414",
   "metadata": {},
   "outputs": [],
   "source": [
    "class abc(abc1,abc2):\n",
    "    pass"
   ]
  },
  {
   "cell_type": "code",
   "execution_count": 39,
   "id": "03fec0c9",
   "metadata": {},
   "outputs": [],
   "source": [
    "obj_abc = abc()"
   ]
  },
  {
   "cell_type": "code",
   "execution_count": 40,
   "id": "ad44ed7e",
   "metadata": {},
   "outputs": [
    {
     "data": {
      "text/plain": [
       "'this is Class A'"
      ]
     },
     "execution_count": 40,
     "metadata": {},
     "output_type": "execute_result"
    }
   ],
   "source": [
    "obj_abc.a()"
   ]
  },
  {
   "cell_type": "code",
   "execution_count": 41,
   "id": "00d390bd",
   "metadata": {},
   "outputs": [
    {
     "data": {
      "text/plain": [
       "'this is class B'"
      ]
     },
     "execution_count": 41,
     "metadata": {},
     "output_type": "execute_result"
    }
   ],
   "source": [
    "obj_abc.b()"
   ]
  },
  {
   "cell_type": "code",
   "execution_count": null,
   "id": "e7bddcf0",
   "metadata": {},
   "outputs": [],
   "source": []
  },
  {
   "cell_type": "code",
   "execution_count": 42,
   "id": "b3d8aab8",
   "metadata": {},
   "outputs": [],
   "source": [
    "import abc"
   ]
  },
  {
   "cell_type": "code",
   "execution_count": 43,
   "id": "56df4afa",
   "metadata": {},
   "outputs": [],
   "source": [
    "class pwskills:\n",
    "    \n",
    "    @abc.abstractmethod\n",
    "    def student_details(self):\n",
    "        pass\n",
    "    \n",
    "    @abc.abstractmethod\n",
    "    def student_assignments(self):\n",
    "        pass\n",
    "    \n",
    "    @abc.abstractmethod\n",
    "    def student_marks(self):\n",
    "        pass"
   ]
  },
  {
   "cell_type": "code",
   "execution_count": 44,
   "id": "7b06f3e8",
   "metadata": {},
   "outputs": [],
   "source": [
    "class student(pwskills):\n",
    "    \n",
    "    def student_details(self):\n",
    "        return \"this is student class method of student details\"\n",
    "    \n",
    "    def student_assignments(self):\n",
    "        return \"this is student class method of student assignment\"\n",
    "    \n",
    "    def student_marks(self):\n",
    "        return \"this is student class method of student marks\""
   ]
  },
  {
   "cell_type": "code",
   "execution_count": 45,
   "id": "a68dd443",
   "metadata": {},
   "outputs": [],
   "source": [
    "class data_science_masters(pwskills):\n",
    "    \n",
    "    def student_details(self):\n",
    "        return \"from Data science classs std_details\"\n",
    "    \n",
    "    def student_assignments(self):\n",
    "        return \"from Data science classs std_assignment\"\n",
    "    \n",
    "    def student_marks(self):\n",
    "        return \"from Data science classs std_marks\""
   ]
  },
  {
   "cell_type": "code",
   "execution_count": 46,
   "id": "41d8eb7e",
   "metadata": {},
   "outputs": [],
   "source": [
    "std = student()"
   ]
  },
  {
   "cell_type": "code",
   "execution_count": 47,
   "id": "c1456ab9",
   "metadata": {},
   "outputs": [
    {
     "data": {
      "text/plain": [
       "'this is student class method of student assignment'"
      ]
     },
     "execution_count": 47,
     "metadata": {},
     "output_type": "execute_result"
    }
   ],
   "source": [
    "std.student_assignments()"
   ]
  },
  {
   "cell_type": "code",
   "execution_count": 48,
   "id": "5cda6771",
   "metadata": {},
   "outputs": [
    {
     "data": {
      "text/plain": [
       "'this is student class method of student details'"
      ]
     },
     "execution_count": 48,
     "metadata": {},
     "output_type": "execute_result"
    }
   ],
   "source": [
    "std.student_details()"
   ]
  },
  {
   "cell_type": "code",
   "execution_count": 49,
   "id": "9e3f3265",
   "metadata": {},
   "outputs": [
    {
     "data": {
      "text/plain": [
       "'this is student class method of student marks'"
      ]
     },
     "execution_count": 49,
     "metadata": {},
     "output_type": "execute_result"
    }
   ],
   "source": [
    "std.student_marks()"
   ]
  },
  {
   "cell_type": "code",
   "execution_count": 50,
   "id": "aeed84e7",
   "metadata": {},
   "outputs": [],
   "source": [
    "dsm = data_science_masters()"
   ]
  },
  {
   "cell_type": "code",
   "execution_count": 51,
   "id": "ad027663",
   "metadata": {},
   "outputs": [
    {
     "data": {
      "text/plain": [
       "'from Data science classs std_details'"
      ]
     },
     "execution_count": 51,
     "metadata": {},
     "output_type": "execute_result"
    }
   ],
   "source": [
    "dsm.student_details()"
   ]
  },
  {
   "cell_type": "code",
   "execution_count": 52,
   "id": "788b6dcf",
   "metadata": {},
   "outputs": [
    {
     "data": {
      "text/plain": [
       "'from Data science classs std_assignment'"
      ]
     },
     "execution_count": 52,
     "metadata": {},
     "output_type": "execute_result"
    }
   ],
   "source": [
    "dsm.student_assignments()"
   ]
  },
  {
   "cell_type": "code",
   "execution_count": 53,
   "id": "f3565e31",
   "metadata": {},
   "outputs": [
    {
     "data": {
      "text/plain": [
       "'from Data science classs std_marks'"
      ]
     },
     "execution_count": 53,
     "metadata": {},
     "output_type": "execute_result"
    }
   ],
   "source": [
    "dsm.student_marks()"
   ]
  },
  {
   "cell_type": "markdown",
   "id": "04f17254",
   "metadata": {},
   "source": [
    "#### Create a vehicle class with an init method having instance variables as name_of_vehicle, max_speed and average_of_vehicle.\n",
    "\n",
    "Create a child class car from the vehicle class created in Que 1, which will inherit the vehicle class.\n",
    "Create a method named seating_capacity which takes capacity as an argument and returns the name of\n",
    "the vehicle and its seating capacity."
   ]
  },
  {
   "cell_type": "code",
   "execution_count": 54,
   "id": "a8532472",
   "metadata": {},
   "outputs": [],
   "source": [
    "class vehicle:\n",
    "    def __init__(self,name_of_vehicle,max_speed,average_of_vehicle):\n",
    "        self.name_of_vehicle = name_of_vehicle\n",
    "        self.max_speed = max_speed\n",
    "        self.average_of_vehicle = average_of_vehicle\n",
    "        "
   ]
  },
  {
   "cell_type": "code",
   "execution_count": 55,
   "id": "fa8a52ce",
   "metadata": {},
   "outputs": [],
   "source": [
    "class car(vehicle):\n",
    "    def seating_capacity(self,capacity):\n",
    "        self.capacity = capacity\n",
    "        return self.name_of_vehicle,self.capacity    "
   ]
  },
  {
   "cell_type": "code",
   "execution_count": 56,
   "id": "9156e110",
   "metadata": {},
   "outputs": [],
   "source": [
    "c = car('Toyata',100,25)"
   ]
  },
  {
   "cell_type": "code",
   "execution_count": 57,
   "id": "fc46117a",
   "metadata": {},
   "outputs": [
    {
     "data": {
      "text/plain": [
       "('Toyata', 2)"
      ]
     },
     "execution_count": 57,
     "metadata": {},
     "output_type": "execute_result"
    }
   ],
   "source": [
    "c.seating_capacity(2)"
   ]
  },
  {
   "cell_type": "code",
   "execution_count": 58,
   "id": "e3ad1407",
   "metadata": {},
   "outputs": [],
   "source": [
    "c1 = car('Haundai',500,40)"
   ]
  },
  {
   "cell_type": "code",
   "execution_count": 59,
   "id": "bf2d6802",
   "metadata": {},
   "outputs": [
    {
     "data": {
      "text/plain": [
       "40"
      ]
     },
     "execution_count": 59,
     "metadata": {},
     "output_type": "execute_result"
    }
   ],
   "source": [
    "c1.average_of_vehicle"
   ]
  },
  {
   "cell_type": "code",
   "execution_count": 60,
   "id": "fc38093e",
   "metadata": {},
   "outputs": [
    {
     "data": {
      "text/plain": [
       "500"
      ]
     },
     "execution_count": 60,
     "metadata": {},
     "output_type": "execute_result"
    }
   ],
   "source": [
    "c1.max_speed"
   ]
  },
  {
   "cell_type": "code",
   "execution_count": 61,
   "id": "731d53f8",
   "metadata": {},
   "outputs": [
    {
     "data": {
      "text/plain": [
       "'Haundai'"
      ]
     },
     "execution_count": 61,
     "metadata": {},
     "output_type": "execute_result"
    }
   ],
   "source": [
    "c1.name_of_vehicle"
   ]
  },
  {
   "cell_type": "code",
   "execution_count": 62,
   "id": "074a8865",
   "metadata": {},
   "outputs": [
    {
     "data": {
      "text/plain": [
       "('Haundai', 5)"
      ]
     },
     "execution_count": 62,
     "metadata": {},
     "output_type": "execute_result"
    }
   ],
   "source": [
    "c1.seating_capacity(5)"
   ]
  },
  {
   "cell_type": "markdown",
   "id": "48ddec54",
   "metadata": {},
   "source": [
    "#### What is method overriding in python? Write a python code to demonstrate method overriding."
   ]
  },
  {
   "cell_type": "code",
   "execution_count": 63,
   "id": "d828d7bb",
   "metadata": {},
   "outputs": [],
   "source": [
    "class ovr1:\n",
    "    def method(self):\n",
    "        return \"this is OVR111\""
   ]
  },
  {
   "cell_type": "code",
   "execution_count": 64,
   "id": "0ac9575d",
   "metadata": {},
   "outputs": [],
   "source": [
    "class ovr2(ovr1):\n",
    "    def method(self):\n",
    "        return \"this is OVR222\""
   ]
  },
  {
   "cell_type": "code",
   "execution_count": 65,
   "id": "57b08ba3",
   "metadata": {},
   "outputs": [],
   "source": [
    "o = ovr2()"
   ]
  },
  {
   "cell_type": "code",
   "execution_count": 66,
   "id": "3d0f4792",
   "metadata": {},
   "outputs": [
    {
     "data": {
      "text/plain": [
       "'this is OVR222'"
      ]
     },
     "execution_count": 66,
     "metadata": {},
     "output_type": "execute_result"
    }
   ],
   "source": [
    "o.method()     # class ovr2 is a chid class but it show only one method to call because of same name and it call their own method that is known as overriding method "
   ]
  },
  {
   "cell_type": "markdown",
   "id": "b44f6b56",
   "metadata": {},
   "source": [
    "#### What are getter and setter in python? Create a class and create a getter and a setter method in this class."
   ]
  },
  {
   "cell_type": "code",
   "execution_count": 68,
   "id": "569e6189",
   "metadata": {},
   "outputs": [],
   "source": [
    "class college_student:\n",
    "    \n",
    "    def __init__(self,name,age,mobile):\n",
    "        self.name = name\n",
    "        self.age = age\n",
    "        self.__mobile = mobile\n",
    "        \n",
    "    def set_mobile(self,mobile):\n",
    "        self.__mobile = mobile\n",
    "    \n",
    "    def get_mobile(self):\n",
    "        return self.__mobile\n",
    "        "
   ]
  },
  {
   "cell_type": "code",
   "execution_count": 69,
   "id": "d1ee4109",
   "metadata": {},
   "outputs": [],
   "source": [
    "clg_std = college_student('Rahul',25,989765689)"
   ]
  },
  {
   "cell_type": "code",
   "execution_count": 70,
   "id": "a1159519",
   "metadata": {},
   "outputs": [
    {
     "data": {
      "text/plain": [
       "25"
      ]
     },
     "execution_count": 70,
     "metadata": {},
     "output_type": "execute_result"
    }
   ],
   "source": [
    "clg_std.age"
   ]
  },
  {
   "cell_type": "code",
   "execution_count": 71,
   "id": "fcd560cb",
   "metadata": {},
   "outputs": [
    {
     "data": {
      "text/plain": [
       "'Rahul'"
      ]
     },
     "execution_count": 71,
     "metadata": {},
     "output_type": "execute_result"
    }
   ],
   "source": [
    "clg_std.name"
   ]
  },
  {
   "cell_type": "code",
   "execution_count": 73,
   "id": "b7460aa6",
   "metadata": {},
   "outputs": [
    {
     "data": {
      "text/plain": [
       "989765689"
      ]
     },
     "execution_count": 73,
     "metadata": {},
     "output_type": "execute_result"
    }
   ],
   "source": [
    "clg_std.get_mobile()"
   ]
  },
  {
   "cell_type": "code",
   "execution_count": 74,
   "id": "4299941a",
   "metadata": {},
   "outputs": [],
   "source": [
    "clg_std.set_mobile(99944455)"
   ]
  },
  {
   "cell_type": "code",
   "execution_count": 75,
   "id": "3fdb2681",
   "metadata": {},
   "outputs": [
    {
     "data": {
      "text/plain": [
       "99944455"
      ]
     },
     "execution_count": 75,
     "metadata": {},
     "output_type": "execute_result"
    }
   ],
   "source": [
    "clg_std.get_mobile()"
   ]
  }
 ],
 "metadata": {
  "kernelspec": {
   "display_name": "Python 3 (ipykernel)",
   "language": "python",
   "name": "python3"
  },
  "language_info": {
   "codemirror_mode": {
    "name": "ipython",
    "version": 3
   },
   "file_extension": ".py",
   "mimetype": "text/x-python",
   "name": "python",
   "nbconvert_exporter": "python",
   "pygments_lexer": "ipython3",
   "version": "3.9.16"
  }
 },
 "nbformat": 4,
 "nbformat_minor": 5
}
