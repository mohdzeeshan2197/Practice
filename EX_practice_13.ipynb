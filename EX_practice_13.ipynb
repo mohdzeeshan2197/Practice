{
 "cells": [
  {
   "cell_type": "markdown",
   "id": "f125f037",
   "metadata": {},
   "source": [
    "#### Multithreading"
   ]
  },
  {
   "cell_type": "code",
   "execution_count": 1,
   "id": "793bd702",
   "metadata": {},
   "outputs": [],
   "source": [
    "import threading"
   ]
  },
  {
   "cell_type": "code",
   "execution_count": 2,
   "id": "508e0f98",
   "metadata": {},
   "outputs": [],
   "source": [
    "def test(id):\n",
    "    print(\"program start %d\"% id)"
   ]
  },
  {
   "cell_type": "code",
   "execution_count": 3,
   "id": "8283d1c3",
   "metadata": {},
   "outputs": [],
   "source": [
    "thread = [threading.Thread(target= test,args=(i,)) for i in range(10)]"
   ]
  },
  {
   "cell_type": "code",
   "execution_count": 4,
   "id": "ce3b5dcf",
   "metadata": {},
   "outputs": [
    {
     "name": "stdout",
     "output_type": "stream",
     "text": [
      "program start 0\n",
      "program start 1\n",
      "program start 2\n",
      "program start 3\n",
      "program start 4\n",
      "program start 5\n",
      "program start 6\n",
      "program start 7\n",
      "program start 8\n",
      "program start 9\n"
     ]
    }
   ],
   "source": [
    "for i in thread:\n",
    "    i.start()"
   ]
  },
  {
   "cell_type": "code",
   "execution_count": 5,
   "id": "a8697bb5",
   "metadata": {},
   "outputs": [
    {
     "data": {
      "text/plain": [
       "[<Thread(Thread-5, stopped 10380)>,\n",
       " <Thread(Thread-6, stopped 9968)>,\n",
       " <Thread(Thread-7, stopped 10284)>,\n",
       " <Thread(Thread-8, stopped 1572)>,\n",
       " <Thread(Thread-9, stopped 8092)>,\n",
       " <Thread(Thread-10, stopped 600)>,\n",
       " <Thread(Thread-11, stopped 708)>,\n",
       " <Thread(Thread-12, stopped 9484)>,\n",
       " <Thread(Thread-13, stopped 3572)>,\n",
       " <Thread(Thread-14, stopped 5876)>]"
      ]
     },
     "execution_count": 5,
     "metadata": {},
     "output_type": "execute_result"
    }
   ],
   "source": [
    "thread"
   ]
  },
  {
   "cell_type": "code",
   "execution_count": 6,
   "id": "7abd19cd",
   "metadata": {},
   "outputs": [],
   "source": [
    "import threading\n",
    "import urllib.request"
   ]
  },
  {
   "cell_type": "code",
   "execution_count": 7,
   "id": "0e01d057",
   "metadata": {},
   "outputs": [],
   "source": [
    "def file_download(url,filename):\n",
    "    urllib.request.urlretrieve(url,filename)\n",
    "    "
   ]
  },
  {
   "cell_type": "code",
   "execution_count": null,
   "id": "3cb18568",
   "metadata": {},
   "outputs": [],
   "source": []
  },
  {
   "cell_type": "code",
   "execution_count": 9,
   "id": "d914b526",
   "metadata": {},
   "outputs": [],
   "source": [
    "file_download('https://docs.fileformat.com/word-processing/txt/','poems.txt')"
   ]
  },
  {
   "cell_type": "code",
   "execution_count": 10,
   "id": "50d8cbef",
   "metadata": {},
   "outputs": [],
   "source": [
    "url_list = ['https://raw.githubusercontent.com/itsfoss/text-files/master/agatha.txt','https://raw.githubusercontent.com/itsfoss/text-files/master/sherlock.txt','https://raw.githubusercontent.com/itsfoss/text-files/master/sample_log_file.txt']"
   ]
  },
  {
   "cell_type": "code",
   "execution_count": 11,
   "id": "23b489a4",
   "metadata": {},
   "outputs": [
    {
     "data": {
      "text/plain": [
       "['https://raw.githubusercontent.com/itsfoss/text-files/master/agatha.txt',\n",
       " 'https://raw.githubusercontent.com/itsfoss/text-files/master/sherlock.txt',\n",
       " 'https://raw.githubusercontent.com/itsfoss/text-files/master/sample_log_file.txt']"
      ]
     },
     "execution_count": 11,
     "metadata": {},
     "output_type": "execute_result"
    }
   ],
   "source": [
    "url_list"
   ]
  },
  {
   "cell_type": "code",
   "execution_count": 12,
   "id": "a9fa884d",
   "metadata": {},
   "outputs": [],
   "source": [
    "file_name_list = ['data1','data2','data3']"
   ]
  },
  {
   "cell_type": "code",
   "execution_count": 13,
   "id": "df8e4407",
   "metadata": {},
   "outputs": [
    {
     "data": {
      "text/plain": [
       "['data1', 'data2', 'data3']"
      ]
     },
     "execution_count": 13,
     "metadata": {},
     "output_type": "execute_result"
    }
   ],
   "source": [
    "file_name_list"
   ]
  },
  {
   "cell_type": "code",
   "execution_count": 14,
   "id": "5fade0bb",
   "metadata": {},
   "outputs": [],
   "source": [
    "my_thread = [threading.Thread(target= file_download, args= (url_list[i] , file_name_list[i])) for i in range(len(file_name_list))]"
   ]
  },
  {
   "cell_type": "code",
   "execution_count": 15,
   "id": "7658163d",
   "metadata": {},
   "outputs": [
    {
     "data": {
      "text/plain": [
       "[<Thread(Thread-15, initial)>,\n",
       " <Thread(Thread-16, initial)>,\n",
       " <Thread(Thread-17, initial)>]"
      ]
     },
     "execution_count": 15,
     "metadata": {},
     "output_type": "execute_result"
    }
   ],
   "source": [
    "my_thread"
   ]
  },
  {
   "cell_type": "code",
   "execution_count": 16,
   "id": "ff8ad625",
   "metadata": {},
   "outputs": [],
   "source": [
    "for t in my_thread:\n",
    "    t.start()"
   ]
  },
  {
   "cell_type": "code",
   "execution_count": 17,
   "id": "80a97ecc",
   "metadata": {},
   "outputs": [],
   "source": [
    "import time\n",
    "def test1(id):\n",
    "    for i in range(10):\n",
    "        print('Test 1 %d printing %d' %(id,i))\n",
    "        time.sleep(1)"
   ]
  },
  {
   "cell_type": "code",
   "execution_count": 18,
   "id": "342ada4a",
   "metadata": {},
   "outputs": [
    {
     "name": "stdout",
     "output_type": "stream",
     "text": [
      "Test 1 1 printing 0\n",
      "Test 1 1 printing 1\n",
      "Test 1 1 printing 2\n",
      "Test 1 1 printing 3\n",
      "Test 1 1 printing 4\n",
      "Test 1 1 printing 5\n",
      "Test 1 1 printing 6\n",
      "Test 1 1 printing 7\n",
      "Test 1 1 printing 8\n",
      "Test 1 1 printing 9\n"
     ]
    }
   ],
   "source": [
    "test1(1)"
   ]
  },
  {
   "cell_type": "code",
   "execution_count": 19,
   "id": "c7374dac",
   "metadata": {},
   "outputs": [],
   "source": [
    "thread1 = [threading.Thread(target= test1,args= (i,)) for i in range(3)]"
   ]
  },
  {
   "cell_type": "code",
   "execution_count": 21,
   "id": "b64dd07a",
   "metadata": {},
   "outputs": [
    {
     "name": "stdout",
     "output_type": "stream",
     "text": [
      "Test 1 0 printing 0\n",
      "Test 1 1 printing 0\n",
      "Test 1 2 printing 0\n",
      "Test 1 2 printing 1Test 1 0 printing 1\n",
      "\n",
      "Test 1 1 printing 1\n",
      "Test 1 1 printing 2Test 1 2 printing 2\n",
      "\n",
      "Test 1 0 printing 2\n",
      "Test 1 1 printing 3Test 1 0 printing 3\n",
      "Test 1 2 printing 3\n",
      "\n",
      "Test 1 1 printing 4Test 1 2 printing 4\n",
      "Test 1 0 printing 4\n",
      "\n",
      "Test 1 1 printing 5Test 1 0 printing 5\n",
      "\n",
      "Test 1 2 printing 5\n",
      "Test 1 2 printing 6Test 1 1 printing 6\n",
      "Test 1 0 printing 6\n",
      "\n",
      "Test 1 0 printing 7Test 1 2 printing 7\n",
      "Test 1 1 printing 7\n",
      "\n",
      "Test 1 1 printing 8Test 1 0 printing 8\n",
      "\n",
      "Test 1 2 printing 8\n",
      "Test 1 2 printing 9Test 1 0 printing 9\n",
      "Test 1 1 printing 9\n",
      "\n"
     ]
    }
   ],
   "source": [
    "for i in thread1:\n",
    "    i.start()"
   ]
  },
  {
   "cell_type": "code",
   "execution_count": 24,
   "id": "fc227e19",
   "metadata": {},
   "outputs": [],
   "source": [
    "import time\n",
    "def test1(id):\n",
    "    for i in range(10):\n",
    "        print('Test 1 %d printing %d' %(id,i))\n",
    "#         time.sleep(1)"
   ]
  },
  {
   "cell_type": "code",
   "execution_count": 26,
   "id": "5be5e187",
   "metadata": {},
   "outputs": [],
   "source": [
    "thread2 = [threading.Thread(target= test1,args= (i,)) for i in range(3)]"
   ]
  },
  {
   "cell_type": "code",
   "execution_count": 27,
   "id": "d532a007",
   "metadata": {},
   "outputs": [
    {
     "name": "stdout",
     "output_type": "stream",
     "text": [
      "Test 1 0 printing 0\n",
      "Test 1 0 printing 1\n",
      "Test 1 0 printing 2\n",
      "Test 1 0 printing 3\n",
      "Test 1 0 printing 4\n",
      "Test 1 0 printing 5\n",
      "Test 1 0 printing 6\n",
      "Test 1 0 printing 7\n",
      "Test 1 0 printing 8\n",
      "Test 1 0 printing 9\n",
      "Test 1 1 printing 0\n",
      "Test 1 1 printing 1\n",
      "Test 1 1 printing 2\n",
      "Test 1 1 printing 3\n",
      "Test 1 1 printing 4\n",
      "Test 1 1 printing 5\n",
      "Test 1 1 printing 6\n",
      "Test 1 1 printing 7\n",
      "Test 1 1 printing 8\n",
      "Test 1 1 printing 9\n",
      "Test 1 2 printing 0\n",
      "Test 1 2 printing 1\n",
      "Test 1 2 printing 2\n",
      "Test 1 2 printing 3\n",
      "Test 1 2 printing 4\n",
      "Test 1 2 printing 5\n",
      "Test 1 2 printing 6\n",
      "Test 1 2 printing 7\n",
      "Test 1 2 printing 8\n",
      "Test 1 2 printing 9\n"
     ]
    }
   ],
   "source": [
    "for i in thread2:\n",
    "    i.start()"
   ]
  },
  {
   "cell_type": "markdown",
   "id": "0e30e35f",
   "metadata": {},
   "source": [
    "## What is multithreading in python? hy is it used? Name the module used to handle threads in python"
   ]
  },
  {
   "cell_type": "markdown",
   "id": "7131a8c1",
   "metadata": {},
   "source": [
    "Multithreading is used in Python for concurrent execution of tasks that can be parallelized, such as performing multiple I/O-bound operations simultaneously or running multiple tasks that do not require extensive CPU processing. However, due to the GIL, multithreading may not be as effective for CPU-bound tasks as multiprocessing."
   ]
  },
  {
   "cell_type": "markdown",
   "id": "97ec12db",
   "metadata": {},
   "source": [
    "## why threading module used? rite the use of the following functions"
   ]
  },
  {
   "cell_type": "markdown",
   "id": "02f0ef88",
   "metadata": {},
   "source": [
    "enumerate(): This function returns a list of all Thread objects currently alive.\n",
    "\n",
    "Example:\n",
    "\n",
    "python\n",
    "Copy code\n",
    "all_threads = threading.enumerate()"
   ]
  },
  {
   "cell_type": "markdown",
   "id": "d20f5534",
   "metadata": {},
   "source": [
    "activeCount():\n",
    "\n",
    "This function returns the number of Thread objects currently alive.\n",
    "It is a class method and can be called on the Thread class without creating an instance.\n",
    "Example:\n",
    "\n",
    "python\n",
    "Copy code\n",
    "import threading\n",
    "\n",
    "#### Create some threads\n",
    "thread1 = threading.Thread(target=lambda: print(\"Thread 1\"))\n",
    "thread2 = threading.Thread(target=lambda: print(\"Thread 2\"))\n",
    "\n",
    "#### Start the threads\n",
    "thread1.start()\n",
    "thread2.start()\n",
    "\n",
    "#### Get the number of active threads\n",
    "active_threads = threading.activeCount()\n",
    "print(\"Active threads:\", active_threads)"
   ]
  },
  {
   "cell_type": "markdown",
   "id": "76c11ba0",
   "metadata": {},
   "source": [
    "This function returns the current Thread object corresponding to the caller's thread of control.\n",
    "It is a module-level function in the threading module.\n",
    "Example:\n",
    "\n",
    "python\n",
    "Copy code\n",
    "import threading\n",
    "\n",
    "#### Function to print the current thread name\n",
    "def print_current_thread():\n",
    "    current_thread = threading.currentThread()\n",
    "    print(\"Current Thread:\", current_thread.name)\n",
    "\n",
    "#### Create and start a thread\n",
    "my_thread = threading.Thread(target=print_current_thread)\n",
    "my_thread.start()\n",
    "my_thread.join()"
   ]
  },
  {
   "cell_type": "markdown",
   "id": "0a16f53a",
   "metadata": {},
   "source": [
    "### Write a python program to create two threads. Thread one must print the list of squares and thread two must print the list of cubes"
   ]
  },
  {
   "cell_type": "code",
   "execution_count": 29,
   "id": "110cc5d5",
   "metadata": {},
   "outputs": [
    {
     "name": "stdout",
     "output_type": "stream",
     "text": [
      "Square: 1 * 1 = 1\n",
      "Square: 2 * 2 = 4\n",
      "Square: 3 * 3 = 9\n",
      "Square: 4 * 4 = 16\n",
      "Square: 5 * 5 = 25\n",
      "Cube: 1 * 1 * 1 = 1\n",
      "Cube: 2 * 2 * 2 = 8\n",
      "Cube: 3 * 3 * 3 = 27\n",
      "Cube: 4 * 4 * 4 = 64\n",
      "Cube: 5 * 5 * 5 = 125\n"
     ]
    }
   ],
   "source": [
    "import threading\n",
    "\n",
    "def print_squares(numbers):\n",
    "    for num in numbers:\n",
    "        print(f\"Square: {num} * {num} = {num ** 2}\")\n",
    "\n",
    "def print_cubes(numbers):\n",
    "    for num in numbers:\n",
    "        print(f\"Cube: {num} * {num} * {num} = {num ** 3}\")\n",
    "\n",
    "# Create a list of numbers\n",
    "numbers = [1, 2, 3, 4, 5]\n",
    "\n",
    "# Create two threads, one for squares and one for cubes\n",
    "thread_squares = threading.Thread(target=print_squares, args=(numbers,))\n",
    "thread_cubes = threading.Thread(target=print_cubes, args=(numbers,))\n",
    "\n",
    "# Start the threads\n",
    "thread_squares.start()\n",
    "thread_cubes.start()\n",
    "\n",
    "# Wait for both threads to finish\n",
    "thread_squares.join()\n",
    "thread_cubes.join()\n"
   ]
  },
  {
   "cell_type": "markdown",
   "id": "e1ff9eef",
   "metadata": {},
   "source": [
    "### State advantages and disadvantages of multithreading"
   ]
  },
  {
   "cell_type": "markdown",
   "id": "84cd77bd",
   "metadata": {},
   "source": [
    "\n",
    "#### Advantages of Multithreading:\n",
    "\n",
    "Concurrency: Multithreading allows multiple threads to execute independently, enabling concurrent execution of tasks. This can lead to improved performance and responsiveness in applications, particularly in scenarios involving I/O-bound operations.\n",
    "\n",
    "Resource Sharing: Threads within the same process share the same memory space, making it easier for them to communicate and share data. This shared memory allows for efficient data exchange between threads.\n",
    "\n",
    "Responsiveness: Multithreading is beneficial in user interface applications where responsiveness is crucial. By offloading time-consuming tasks to separate threads, the main thread remains responsive, providing a better user experience.\n",
    "\n",
    "Efficiency: For tasks that can be parallelized, multithreading can lead to increased efficiency by utilizing multiple CPU cores. This is particularly relevant for applications that involve parallelizable computations.\n",
    "\n",
    "Simplified Program Structure: In some cases, multithreading can simplify the program structure by allowing developers to separate different tasks into independent threads. This can result in cleaner and more modular code.\n",
    "\n",
    "#### Disadvantages of Multithreading:\n",
    "\n",
    "Complexity: Multithreading introduces complexity, making programs harder to design, implement, and debug. Synchronization issues, race conditions, and deadlocks can occur, and these issues are often challenging to diagnose and resolve.\n",
    "\n",
    "Synchronization Overhead: When multiple threads access shared resources concurrently, synchronization mechanisms such as locks are necessary to avoid data corruption. However, these mechanisms introduce overhead and can lead to performance bottlenecks.\n",
    "\n",
    "Difficulty of Debugging: Debugging multithreaded programs can be challenging. Issues like race conditions may not manifest consistently and can be difficult to reproduce, making them harder to identify and fix.\n",
    "\n",
    "Potential for Deadlocks: Deadlocks can occur when two or more threads are blocked, each waiting for the other to release a resource. This situation can bring the entire application to a halt.\n",
    "\n",
    "Global Interpreter Lock (GIL): In Python, the Global Interpreter Lock (GIL) limits the execution of multiple threads in CPython, the reference implementation. This can impact the parallelism achieved through multithreading, particularly in CPU-bound tasks.\n",
    "\n",
    "Increased Memory Usage: Each thread requires its own stack space, and the overhead associated with maintaining multiple threads can lead to increased memory consumption."
   ]
  },
  {
   "cell_type": "markdown",
   "id": "e7162b6f",
   "metadata": {},
   "source": [
    "## Explain deadlocks and race conditions."
   ]
  },
  {
   "cell_type": "markdown",
   "id": "34afd44a",
   "metadata": {},
   "source": [
    "A deadlock is a situation in concurrent programming where two or more threads are unable to proceed because each is waiting for the other to release a resource. In other words, each thread holds a resource and is waiting for another resource acquired by some other thread, creating a circular waiting scenario.\n",
    "\n",
    "Key conditions for a deadlock to occur are often summarized as the \"Four Coffins\" or \"Four Horsemen,\" which are:\n",
    "\n",
    "Mutual Exclusion: At least one resource must be held in a non-shareable mode. If one thread holds a resource, others cannot access it until the first thread releases it.\n",
    "\n",
    "Hold and Wait: A thread holds a resource and waits for another resource. It's not releasing the held resource until it gets the second resource.\n",
    "\n",
    "No Preemption: Resources cannot be forcibly taken from the threads holding them. Only the thread holding a resource can release it voluntarily.\n",
    "\n",
    "Circular Wait: A circular chain of threads exists, where each thread holds a resource and is waiting for another resource in the chain.\n",
    "\n",
    "Deadlocks are undesirable because they can lead to a complete standstill in a program, and the threads involved may never make progress. Detecting and resolving deadlocks often involve carefully managing the allocation and release of resources or employing deadlock detection and recovery mechanisms.\n",
    "\n",
    "Race Condition:\n",
    "\n",
    "A race condition occurs in concurrent programming when the behavior of a program depends on the relative timing or interleaving of multiple threads or processes. The result of the program becomes unpredictable because the order of execution is not guaranteed, and different threads may access shared resources concurrently.\n",
    "\n",
    "Race conditions can lead to unexpected and erroneous behavior because the outcome of the program depends on the timing of thread execution. The key to understanding race conditions lies in shared mutable data. If multiple threads access shared data, and at least one of them modifies that data, race conditions can occur."
   ]
  }
 ],
 "metadata": {
  "kernelspec": {
   "display_name": "Python 3 (ipykernel)",
   "language": "python",
   "name": "python3"
  },
  "language_info": {
   "codemirror_mode": {
    "name": "ipython",
    "version": 3
   },
   "file_extension": ".py",
   "mimetype": "text/x-python",
   "name": "python",
   "nbconvert_exporter": "python",
   "pygments_lexer": "ipython3",
   "version": "3.9.16"
  }
 },
 "nbformat": 4,
 "nbformat_minor": 5
}
