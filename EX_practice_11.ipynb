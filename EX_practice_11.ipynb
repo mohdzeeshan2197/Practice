{
 "cells": [
  {
   "cell_type": "markdown",
   "id": "0455bf80",
   "metadata": {},
   "source": [
    "#### Working with files"
   ]
  },
  {
   "cell_type": "code",
   "execution_count": 1,
   "id": "acbfc802",
   "metadata": {},
   "outputs": [],
   "source": [
    "f = open('test.txt','w')"
   ]
  },
  {
   "cell_type": "code",
   "execution_count": 2,
   "id": "535fa056",
   "metadata": {},
   "outputs": [
    {
     "data": {
      "text/plain": [
       "'C:\\\\Users\\\\Let\\\\Re-Practice'"
      ]
     },
     "execution_count": 2,
     "metadata": {},
     "output_type": "execute_result"
    }
   ],
   "source": [
    "pwd"
   ]
  },
  {
   "cell_type": "code",
   "execution_count": 3,
   "id": "cd63e4db",
   "metadata": {},
   "outputs": [
    {
     "name": "stdout",
     "output_type": "stream",
     "text": [
      " Volume in drive C has no label.\n",
      " Volume Serial Number is F8AF-2BFF\n",
      "\n",
      " Directory of C:\\Users\\Let\\Re-Practice\n",
      "\n",
      "24-01-2024  03:37 AM    <DIR>          .\n",
      "24-01-2024  03:37 AM    <DIR>          ..\n",
      "21-01-2024  12:00 PM    <DIR>          .ipynb_checkpoints\n",
      "21-01-2024  06:22 PM                24 binary_file.bin\n",
      "21-01-2024  01:42 PM               347 copy_new_test.txt\n",
      "09-01-2024  02:00 PM           103,646 EX_practice_1.ipynb\n",
      "21-01-2024  02:45 AM            35,429 EX_practice_10.ipynb\n",
      "24-01-2024  12:40 AM            24,766 EX_practice_11.ipynb\n",
      "10-01-2024  12:12 AM             9,701 EX_practice_2.ipynb\n",
      "11-01-2024  12:00 AM            27,880 EX_practice_3.ipynb\n",
      "11-01-2024  01:57 AM             9,873 EX_practice_4.ipynb\n",
      "12-01-2024  11:29 PM            12,532 EX_practice_5.ipynb\n",
      "14-01-2024  03:52 PM            12,606 EX_practice_6.ipynb\n",
      "15-01-2024  12:56 AM             5,319 EX_practice_7.ipynb\n",
      "15-01-2024  03:49 AM             9,859 EX_practice_8.ipynb\n",
      "18-01-2024  12:57 AM            23,883 EX_practice_9.ipynb\n",
      "21-01-2024  06:07 PM                88 file.csv\n",
      "24-01-2024  12:39 AM            22,170 logging_file.log\n",
      "21-01-2024  01:32 PM               347 new_test.txt\n",
      "24-01-2024  03:37 AM                 0 test.txt\n",
      "24-01-2024  12:13 AM             9,517 test1.log\n",
      "22-01-2024  08:35 PM                68 test1.txt\n",
      "21-01-2024  05:32 PM               158 testing.json\n",
      "23-01-2024  01:25 AM               524 testing.log\n",
      "              21 File(s)        308,737 bytes\n",
      "               3 Dir(s)  57,921,843,200 bytes free\n"
     ]
    }
   ],
   "source": [
    "ls"
   ]
  },
  {
   "cell_type": "code",
   "execution_count": 4,
   "id": "264005e9",
   "metadata": {},
   "outputs": [
    {
     "data": {
      "text/plain": [
       "30"
      ]
     },
     "execution_count": 4,
     "metadata": {},
     "output_type": "execute_result"
    }
   ],
   "source": [
    "f.write(\"This is my first file to write\")"
   ]
  },
  {
   "cell_type": "code",
   "execution_count": 5,
   "id": "23959fd2",
   "metadata": {},
   "outputs": [],
   "source": [
    "f.close()"
   ]
  },
  {
   "cell_type": "code",
   "execution_count": 6,
   "id": "eea48882",
   "metadata": {},
   "outputs": [],
   "source": [
    "f = open('test.txt','w')"
   ]
  },
  {
   "cell_type": "code",
   "execution_count": 7,
   "id": "107f6ef6",
   "metadata": {},
   "outputs": [
    {
     "data": {
      "text/plain": [
       "59"
      ]
     },
     "execution_count": 7,
     "metadata": {},
     "output_type": "execute_result"
    }
   ],
   "source": [
    "f.write('Hello friends, This is the second line in my new first file')"
   ]
  },
  {
   "cell_type": "code",
   "execution_count": 8,
   "id": "fc496d2d",
   "metadata": {},
   "outputs": [],
   "source": [
    "f.close()"
   ]
  },
  {
   "cell_type": "code",
   "execution_count": 9,
   "id": "0020e2f4",
   "metadata": {},
   "outputs": [],
   "source": [
    "f = open('test.txt','a')"
   ]
  },
  {
   "cell_type": "code",
   "execution_count": 10,
   "id": "4fddf783",
   "metadata": {},
   "outputs": [
    {
     "data": {
      "text/plain": [
       "288"
      ]
     },
     "execution_count": 10,
     "metadata": {},
     "output_type": "execute_result"
    }
   ],
   "source": [
    "f.write(' This online Data Science and Artificial Intelligence advanced certification course conducted by the IIT Faculty aims at helping you master all the basic and advanced level skills that are crucial in the field of Data Science, Machine Learning, Deep Learning, and Artificial Intelligence.')"
   ]
  },
  {
   "cell_type": "code",
   "execution_count": 11,
   "id": "6e5321be",
   "metadata": {},
   "outputs": [],
   "source": [
    "f.close()"
   ]
  },
  {
   "cell_type": "code",
   "execution_count": 12,
   "id": "24395f54",
   "metadata": {},
   "outputs": [],
   "source": [
    "f = open('test.txt','r')"
   ]
  },
  {
   "cell_type": "code",
   "execution_count": 13,
   "id": "c83b165d",
   "metadata": {},
   "outputs": [
    {
     "data": {
      "text/plain": [
       "'Hello friends, This is the second line in my new first file This online Data Science and Artificial Intelligence advanced certification course conducted by the IIT Faculty aims at helping you master all the basic and advanced level skills that are crucial in the field of Data Science, Machine Learning, Deep Learning, and Artificial Intelligence.'"
      ]
     },
     "execution_count": 13,
     "metadata": {},
     "output_type": "execute_result"
    }
   ],
   "source": [
    "f.read()"
   ]
  },
  {
   "cell_type": "code",
   "execution_count": 14,
   "id": "113ea402",
   "metadata": {},
   "outputs": [
    {
     "data": {
      "text/plain": [
       "''"
      ]
     },
     "execution_count": 14,
     "metadata": {},
     "output_type": "execute_result"
    }
   ],
   "source": [
    "f.readline()"
   ]
  },
  {
   "cell_type": "code",
   "execution_count": 15,
   "id": "072722e9",
   "metadata": {},
   "outputs": [
    {
     "data": {
      "text/plain": [
       "0"
      ]
     },
     "execution_count": 15,
     "metadata": {},
     "output_type": "execute_result"
    }
   ],
   "source": [
    "f.seek(0)"
   ]
  },
  {
   "cell_type": "code",
   "execution_count": 16,
   "id": "bf4432a5",
   "metadata": {},
   "outputs": [
    {
     "data": {
      "text/plain": [
       "'Hello friends, This is the second line in my new first file This online Data Science and Artificial Intelligence advanced certification course conducted by the IIT Faculty aims at helping you master all the basic and advanced level skills that are crucial in the field of Data Science, Machine Learning, Deep Learning, and Artificial Intelligence.'"
      ]
     },
     "execution_count": 16,
     "metadata": {},
     "output_type": "execute_result"
    }
   ],
   "source": [
    "f.readline()"
   ]
  },
  {
   "cell_type": "code",
   "execution_count": 17,
   "id": "ef8c2dfa",
   "metadata": {},
   "outputs": [],
   "source": [
    "f.close()"
   ]
  },
  {
   "cell_type": "code",
   "execution_count": 18,
   "id": "d572fc27",
   "metadata": {},
   "outputs": [],
   "source": [
    "data1 = open('test.txt','r')"
   ]
  },
  {
   "cell_type": "code",
   "execution_count": 19,
   "id": "8e088d4e",
   "metadata": {},
   "outputs": [
    {
     "name": "stdout",
     "output_type": "stream",
     "text": [
      "Hello friends, This is the second line in my new first file This online Data Science and Artificial Intelligence advanced certification course conducted by the IIT Faculty aims at helping you master all the basic and advanced level skills that are crucial in the field of Data Science, Machine Learning, Deep Learning, and Artificial Intelligence.\n"
     ]
    },
    {
     "data": {
      "text/plain": [
       "0"
      ]
     },
     "execution_count": 19,
     "metadata": {},
     "output_type": "execute_result"
    }
   ],
   "source": [
    "for i in data1:\n",
    "    print(i)\n",
    "data1.seek(0)"
   ]
  },
  {
   "cell_type": "code",
   "execution_count": 20,
   "id": "961cf251",
   "metadata": {},
   "outputs": [],
   "source": [
    "data1.close()"
   ]
  },
  {
   "cell_type": "code",
   "execution_count": 21,
   "id": "f692b7dd",
   "metadata": {},
   "outputs": [],
   "source": [
    "f.close()"
   ]
  },
  {
   "cell_type": "code",
   "execution_count": 22,
   "id": "85d4dd2f",
   "metadata": {},
   "outputs": [],
   "source": [
    "import os"
   ]
  },
  {
   "cell_type": "code",
   "execution_count": 23,
   "id": "c594f6d0",
   "metadata": {},
   "outputs": [
    {
     "data": {
      "text/plain": [
       "347"
      ]
     },
     "execution_count": 23,
     "metadata": {},
     "output_type": "execute_result"
    }
   ],
   "source": [
    "os.path.getsize('test.txt')"
   ]
  },
  {
   "cell_type": "code",
   "execution_count": 24,
   "id": "465fe857",
   "metadata": {},
   "outputs": [],
   "source": [
    "os.remove(\"test.txt\")"
   ]
  },
  {
   "cell_type": "code",
   "execution_count": 25,
   "id": "122c0510",
   "metadata": {},
   "outputs": [],
   "source": [
    "data = open('test1.txt','w')"
   ]
  },
  {
   "cell_type": "code",
   "execution_count": 26,
   "id": "e7f54bb3",
   "metadata": {},
   "outputs": [
    {
     "data": {
      "text/plain": [
       "347"
      ]
     },
     "execution_count": 26,
     "metadata": {},
     "output_type": "execute_result"
    }
   ],
   "source": [
    "data.write(\"Hello friends, This is the second line in my new first file This online Data Science and Artificial Intelligence advanced certification course conducted by the IIT Faculty aims at helping you master all the basic and advanced level skills that are crucial in the field of Data Science, Machine Learning, Deep Learning, and Artificial Intelligence.\")"
   ]
  },
  {
   "cell_type": "code",
   "execution_count": 27,
   "id": "d5b35165",
   "metadata": {},
   "outputs": [],
   "source": [
    "data.close()"
   ]
  },
  {
   "cell_type": "code",
   "execution_count": 28,
   "id": "3169cf09",
   "metadata": {},
   "outputs": [
    {
     "ename": "FileExistsError",
     "evalue": "[WinError 183] Cannot create a file when that file already exists: 'test1.txt' -> 'new_test.txt'",
     "output_type": "error",
     "traceback": [
      "\u001b[1;31m---------------------------------------------------------------------------\u001b[0m",
      "\u001b[1;31mFileExistsError\u001b[0m                           Traceback (most recent call last)",
      "Cell \u001b[1;32mIn[28], line 1\u001b[0m\n\u001b[1;32m----> 1\u001b[0m \u001b[43mos\u001b[49m\u001b[38;5;241;43m.\u001b[39;49m\u001b[43mrename\u001b[49m\u001b[43m(\u001b[49m\u001b[38;5;124;43m'\u001b[39;49m\u001b[38;5;124;43mtest1.txt\u001b[39;49m\u001b[38;5;124;43m'\u001b[39;49m\u001b[43m,\u001b[49m\u001b[38;5;124;43m'\u001b[39;49m\u001b[38;5;124;43mnew_test.txt\u001b[39;49m\u001b[38;5;124;43m'\u001b[39;49m\u001b[43m)\u001b[49m\n",
      "\u001b[1;31mFileExistsError\u001b[0m: [WinError 183] Cannot create a file when that file already exists: 'test1.txt' -> 'new_test.txt'"
     ]
    }
   ],
   "source": [
    "os.rename('test1.txt','new_test.txt')"
   ]
  },
  {
   "cell_type": "code",
   "execution_count": 29,
   "id": "9acbc7c8",
   "metadata": {},
   "outputs": [],
   "source": [
    "import shutil"
   ]
  },
  {
   "cell_type": "code",
   "execution_count": 30,
   "id": "ff34c9af",
   "metadata": {},
   "outputs": [
    {
     "data": {
      "text/plain": [
       "'copy_new_test.txt'"
      ]
     },
     "execution_count": 30,
     "metadata": {},
     "output_type": "execute_result"
    }
   ],
   "source": [
    "shutil.copy('new_test.txt','copy_new_test.txt')"
   ]
  },
  {
   "cell_type": "code",
   "execution_count": 31,
   "id": "ff1f002b",
   "metadata": {},
   "outputs": [
    {
     "name": "stdout",
     "output_type": "stream",
     "text": [
      "Hello friends, This is the second line in my new first file This online Data Science and Artificial Intelligence advanced certification course conducted by the IIT Faculty aims at helping you master all the basic and advanced level skills that are crucial in the field of Data Science, Machine Learning, Deep Learning, and Artificial Intelligence.\n"
     ]
    }
   ],
   "source": [
    "with open('new_test.txt','r') as f:\n",
    "    print(f.read())"
   ]
  },
  {
   "cell_type": "code",
   "execution_count": 32,
   "id": "8185bffd",
   "metadata": {},
   "outputs": [],
   "source": [
    "f.close()"
   ]
  },
  {
   "cell_type": "code",
   "execution_count": null,
   "id": "a6eafc71",
   "metadata": {},
   "outputs": [],
   "source": []
  },
  {
   "cell_type": "code",
   "execution_count": 33,
   "id": "c8b183dc",
   "metadata": {},
   "outputs": [],
   "source": [
    "data = {\n",
    "    'name': 'sudhanshu',\n",
    "    'email_id':'sudh@gmail.com',\n",
    "    'mobile_number':9876567896,\n",
    "    'course':['Data Science','Web Developement','Big data','Data Analytics']\n",
    "       }"
   ]
  },
  {
   "cell_type": "code",
   "execution_count": 34,
   "id": "c5de283c",
   "metadata": {},
   "outputs": [
    {
     "data": {
      "text/plain": [
       "{'name': 'sudhanshu',\n",
       " 'email_id': 'sudh@gmail.com',\n",
       " 'mobile_number': 9876567896,\n",
       " 'course': ['Data Science', 'Web Developement', 'Big data', 'Data Analytics']}"
      ]
     },
     "execution_count": 34,
     "metadata": {},
     "output_type": "execute_result"
    }
   ],
   "source": [
    "data"
   ]
  },
  {
   "cell_type": "code",
   "execution_count": 35,
   "id": "144aa6f8",
   "metadata": {},
   "outputs": [],
   "source": [
    "import json"
   ]
  },
  {
   "cell_type": "code",
   "execution_count": 36,
   "id": "dcc6c660",
   "metadata": {},
   "outputs": [],
   "source": [
    "with open('testing.json','w') as f:\n",
    "    json.dump(data,f)"
   ]
  },
  {
   "cell_type": "code",
   "execution_count": 37,
   "id": "9b2fab23",
   "metadata": {},
   "outputs": [],
   "source": [
    "with open('testing.json','r') as f:\n",
    "    data_out = json.load(f)"
   ]
  },
  {
   "cell_type": "code",
   "execution_count": 38,
   "id": "79a84082",
   "metadata": {},
   "outputs": [
    {
     "name": "stdout",
     "output_type": "stream",
     "text": [
      "{'name': 'sudhanshu', 'email_id': 'sudh@gmail.com', 'mobile_number': 9876567896, 'course': ['Data Science', 'Web Developement', 'Big data', 'Data Analytics']}\n"
     ]
    }
   ],
   "source": [
    "print(data_out)"
   ]
  },
  {
   "cell_type": "code",
   "execution_count": 39,
   "id": "c1859a23",
   "metadata": {},
   "outputs": [
    {
     "data": {
      "text/plain": [
       "dict_keys(['name', 'email_id', 'mobile_number', 'course'])"
      ]
     },
     "execution_count": 39,
     "metadata": {},
     "output_type": "execute_result"
    }
   ],
   "source": [
    "data_out.keys()"
   ]
  },
  {
   "cell_type": "code",
   "execution_count": 40,
   "id": "6064490a",
   "metadata": {},
   "outputs": [
    {
     "data": {
      "text/plain": [
       "dict_items([('name', 'sudhanshu'), ('email_id', 'sudh@gmail.com'), ('mobile_number', 9876567896), ('course', ['Data Science', 'Web Developement', 'Big data', 'Data Analytics'])])"
      ]
     },
     "execution_count": 40,
     "metadata": {},
     "output_type": "execute_result"
    }
   ],
   "source": [
    "data_out.items()"
   ]
  },
  {
   "cell_type": "code",
   "execution_count": 41,
   "id": "0041cd00",
   "metadata": {},
   "outputs": [
    {
     "data": {
      "text/plain": [
       "dict_values(['sudhanshu', 'sudh@gmail.com', 9876567896, ['Data Science', 'Web Developement', 'Big data', 'Data Analytics']])"
      ]
     },
     "execution_count": 41,
     "metadata": {},
     "output_type": "execute_result"
    }
   ],
   "source": [
    "data_out.values()"
   ]
  },
  {
   "cell_type": "code",
   "execution_count": 42,
   "id": "e2a91745",
   "metadata": {},
   "outputs": [
    {
     "data": {
      "text/plain": [
       "'Big data'"
      ]
     },
     "execution_count": 42,
     "metadata": {},
     "output_type": "execute_result"
    }
   ],
   "source": [
    "data_out['course'][2]"
   ]
  },
  {
   "cell_type": "code",
   "execution_count": null,
   "id": "14818e9c",
   "metadata": {},
   "outputs": [],
   "source": []
  },
  {
   "cell_type": "code",
   "execution_count": 43,
   "id": "4ad8717c",
   "metadata": {},
   "outputs": [],
   "source": [
    "import csv"
   ]
  },
  {
   "cell_type": "code",
   "execution_count": 44,
   "id": "ad10b19c",
   "metadata": {},
   "outputs": [],
   "source": [
    "data = [['name','email','mobile'],\n",
    "        ['sudh','sudh@gmail.com',9876567546],\n",
    "        ['krish','krish@gmail.com',9897676985]\n",
    "       ]"
   ]
  },
  {
   "cell_type": "code",
   "execution_count": 45,
   "id": "7f0ae551",
   "metadata": {},
   "outputs": [],
   "source": [
    "with open('file.csv','w') as f:\n",
    "    w = csv.writer(f)\n",
    "    for i in data:\n",
    "        w.writerow(i)\n",
    "        "
   ]
  },
  {
   "cell_type": "code",
   "execution_count": 46,
   "id": "4db554db",
   "metadata": {},
   "outputs": [
    {
     "name": "stdout",
     "output_type": "stream",
     "text": [
      "['name', 'email', 'mobile']\n",
      "[]\n",
      "['sudh', 'sudh@gmail.com', '9876567546']\n",
      "[]\n",
      "['krish', 'krish@gmail.com', '9897676985']\n",
      "[]\n"
     ]
    }
   ],
   "source": [
    "with open('file.csv','r') as f:\n",
    "    file_read = csv.reader(f)\n",
    "    \n",
    "    for i in file_read:\n",
    "        print(i)"
   ]
  },
  {
   "cell_type": "code",
   "execution_count": 47,
   "id": "05aa90dd",
   "metadata": {},
   "outputs": [],
   "source": [
    "with open('binary_file.bin','wb') as f :\n",
    "    f.write(b'/x01/x02/x03/x04/x876578')"
   ]
  },
  {
   "cell_type": "code",
   "execution_count": 48,
   "id": "d5dcd368",
   "metadata": {},
   "outputs": [
    {
     "name": "stdout",
     "output_type": "stream",
     "text": [
      "b'/x01/x02/x03/x04/x876578'\n"
     ]
    }
   ],
   "source": [
    "with open('binary_file.bin', 'rb') as f:\n",
    "\n",
    "    print(f.read())"
   ]
  },
  {
   "cell_type": "code",
   "execution_count": 49,
   "id": "fb69676c",
   "metadata": {},
   "outputs": [],
   "source": [
    "f.close()"
   ]
  },
  {
   "cell_type": "code",
   "execution_count": 50,
   "id": "330334a6",
   "metadata": {},
   "outputs": [],
   "source": [
    "import io"
   ]
  },
  {
   "cell_type": "code",
   "execution_count": 51,
   "id": "3ec0a459",
   "metadata": {},
   "outputs": [],
   "source": [
    "with open('test1.txt','wb') as f:\n",
    "    file = io.BufferedWriter(f)\n",
    "    file.write(b\"this is my first line by using buffer reader\")\n",
    "    file.write(b\" this is my second line \")\n",
    "    file.close()"
   ]
  },
  {
   "cell_type": "code",
   "execution_count": 52,
   "id": "30f98e7a",
   "metadata": {},
   "outputs": [
    {
     "name": "stdout",
     "output_type": "stream",
     "text": [
      "b'this is my first line by using buffer reader this is my second line '\n"
     ]
    }
   ],
   "source": [
    "with open('test1.txt','rb') as f :\n",
    "    file = io.BufferedReader(f)\n",
    "    print(file.read())"
   ]
  },
  {
   "cell_type": "code",
   "execution_count": null,
   "id": "46a1e16f",
   "metadata": {},
   "outputs": [],
   "source": []
  },
  {
   "cell_type": "code",
   "execution_count": 53,
   "id": "f568f646",
   "metadata": {},
   "outputs": [],
   "source": [
    "import logging"
   ]
  },
  {
   "cell_type": "code",
   "execution_count": 54,
   "id": "de605ca9",
   "metadata": {},
   "outputs": [],
   "source": [
    "logging.basicConfig(filename = 'testing.log', level = logging.INFO) "
   ]
  },
  {
   "cell_type": "code",
   "execution_count": 55,
   "id": "4c7f0373",
   "metadata": {},
   "outputs": [],
   "source": [
    "logging.info(\"This is my First line in log\")"
   ]
  },
  {
   "cell_type": "code",
   "execution_count": 56,
   "id": "204d8e95",
   "metadata": {},
   "outputs": [],
   "source": [
    "logging.info(\"this is my message\")"
   ]
  },
  {
   "cell_type": "markdown",
   "id": "74f44453",
   "metadata": {},
   "source": [
    "'''\n",
    "1. NOTSET\n",
    "2. DEBUG\n",
    "3. INFO\n",
    "4. WARNING\n",
    "5. ERROR\n",
    "6. CRITICAL\n",
    "\n",
    "'''"
   ]
  },
  {
   "cell_type": "code",
   "execution_count": 57,
   "id": "2a6c0dcd",
   "metadata": {},
   "outputs": [],
   "source": [
    "logging.warning(\"this is warning message\")"
   ]
  },
  {
   "cell_type": "code",
   "execution_count": 58,
   "id": "b68b6f77",
   "metadata": {},
   "outputs": [],
   "source": [
    "logging.error(\"this is my  error message\")"
   ]
  },
  {
   "cell_type": "code",
   "execution_count": 59,
   "id": "129c9faa",
   "metadata": {},
   "outputs": [],
   "source": [
    "logging.critical('This is my critical message')"
   ]
  },
  {
   "cell_type": "code",
   "execution_count": 60,
   "id": "14ce34bd",
   "metadata": {},
   "outputs": [],
   "source": [
    "logging.shutdown()"
   ]
  },
  {
   "cell_type": "code",
   "execution_count": 61,
   "id": "9c90f98e",
   "metadata": {},
   "outputs": [],
   "source": [
    "import logging"
   ]
  },
  {
   "cell_type": "code",
   "execution_count": 62,
   "id": "6987756f",
   "metadata": {},
   "outputs": [],
   "source": [
    "logging.basicConfig(filename= 'test1.log',level = logging.NOTSET, format ='%(asctime)s %(message)s')"
   ]
  },
  {
   "cell_type": "code",
   "execution_count": 63,
   "id": "f0ce1224",
   "metadata": {},
   "outputs": [],
   "source": [
    "logging.info('This is my info message')"
   ]
  },
  {
   "cell_type": "code",
   "execution_count": 64,
   "id": "0a79890b",
   "metadata": {},
   "outputs": [],
   "source": [
    "logging.debug(\"this is my debug\")"
   ]
  },
  {
   "cell_type": "code",
   "execution_count": 65,
   "id": "f18c7796",
   "metadata": {},
   "outputs": [],
   "source": [
    "logging.warning(\"this is my warning\")"
   ]
  },
  {
   "cell_type": "code",
   "execution_count": 66,
   "id": "81d309ce",
   "metadata": {},
   "outputs": [],
   "source": [
    "logging.error(\"this is my error\")"
   ]
  },
  {
   "cell_type": "code",
   "execution_count": 67,
   "id": "96f05be3",
   "metadata": {},
   "outputs": [],
   "source": [
    "logging.critical(\"This is my critical\")"
   ]
  },
  {
   "cell_type": "code",
   "execution_count": 68,
   "id": "7947e7bd",
   "metadata": {},
   "outputs": [],
   "source": [
    "logging.shutdown()"
   ]
  },
  {
   "cell_type": "code",
   "execution_count": 69,
   "id": "e2cad7e1",
   "metadata": {},
   "outputs": [],
   "source": [
    "import logging"
   ]
  },
  {
   "cell_type": "code",
   "execution_count": 70,
   "id": "37d1181b",
   "metadata": {},
   "outputs": [],
   "source": [
    "logging.basicConfig(filename = 'logging_file.log',level = logging.DEBUG, format = '%(asctime)s %(name)s %(levelname)s %(message)s')"
   ]
  },
  {
   "cell_type": "code",
   "execution_count": 71,
   "id": "a122402e",
   "metadata": {},
   "outputs": [],
   "source": [
    "logging.info(\"hello,Guys this is info message to all of you\")"
   ]
  },
  {
   "cell_type": "code",
   "execution_count": 72,
   "id": "305325d7",
   "metadata": {},
   "outputs": [],
   "source": [
    "logging.debug(\"Debug message\")\n",
    "logging.error(\"error message\")\n",
    "logging.warning(\"warning message\")\n",
    "logging.critical(\"critical message\")"
   ]
  },
  {
   "cell_type": "code",
   "execution_count": 73,
   "id": "8e781cfa",
   "metadata": {},
   "outputs": [],
   "source": [
    "l = [1,2,3,4,33,4,5,[4,5,66,4,],'sudh','krish']"
   ]
  },
  {
   "cell_type": "code",
   "execution_count": 74,
   "id": "525600ed",
   "metadata": {},
   "outputs": [
    {
     "data": {
      "text/plain": [
       "[1, 2, 3, 4, 33, 4, 5, [4, 5, 66, 4], 'sudh', 'krish']"
      ]
     },
     "execution_count": 74,
     "metadata": {},
     "output_type": "execute_result"
    }
   ],
   "source": [
    "l"
   ]
  },
  {
   "cell_type": "code",
   "execution_count": 75,
   "id": "7fc94157",
   "metadata": {},
   "outputs": [],
   "source": [
    "i_l = []\n",
    "s_l = []\n",
    "for i in l:\n",
    "    logging.info(\"for loop executing\")\n",
    "    if type(i) == int:\n",
    "        logging.info(\"if else statmenet executing and check type of i variable\")\n",
    "        i_l.append(i)\n",
    "    elif type(i) == list:\n",
    "        for j in i:\n",
    "            logging.info(\"for loop executing for checking list inside list\")\n",
    "            i_l.append(j)\n",
    "    elif type(i) == str:\n",
    "        s_l.append(i)\n",
    "        \n",
    "logging.info(\"This is the final result {l1} and {l2}\".format(l1 = i_l,l2 = s_l))\n",
    "        "
   ]
  },
  {
   "cell_type": "code",
   "execution_count": 76,
   "id": "47d74e53",
   "metadata": {},
   "outputs": [
    {
     "data": {
      "text/plain": [
       "[1, 2, 3, 4, 33, 4, 5, 4, 5, 66, 4]"
      ]
     },
     "execution_count": 76,
     "metadata": {},
     "output_type": "execute_result"
    }
   ],
   "source": [
    "i_l"
   ]
  },
  {
   "cell_type": "code",
   "execution_count": 77,
   "id": "a477cc14",
   "metadata": {},
   "outputs": [
    {
     "data": {
      "text/plain": [
       "['sudh', 'krish']"
      ]
     },
     "execution_count": 77,
     "metadata": {},
     "output_type": "execute_result"
    }
   ],
   "source": [
    "s_l"
   ]
  }
 ],
 "metadata": {
  "kernelspec": {
   "display_name": "Python 3 (ipykernel)",
   "language": "python",
   "name": "python3"
  },
  "language_info": {
   "codemirror_mode": {
    "name": "ipython",
    "version": 3
   },
   "file_extension": ".py",
   "mimetype": "text/x-python",
   "name": "python",
   "nbconvert_exporter": "python",
   "pygments_lexer": "ipython3",
   "version": "3.9.16"
  }
 },
 "nbformat": 4,
 "nbformat_minor": 5
}
