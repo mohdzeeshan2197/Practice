{
 "cells": [
  {
   "cell_type": "code",
   "execution_count": 1,
   "id": "c2f13d94",
   "metadata": {},
   "outputs": [],
   "source": [
    "def test(n,p):\n",
    "    return n ** p"
   ]
  },
  {
   "cell_type": "code",
   "execution_count": 2,
   "id": "e81ab4b8",
   "metadata": {},
   "outputs": [
    {
     "data": {
      "text/plain": [
       "9"
      ]
     },
     "execution_count": 2,
     "metadata": {},
     "output_type": "execute_result"
    }
   ],
   "source": [
    "test(3,2)"
   ]
  },
  {
   "cell_type": "code",
   "execution_count": 5,
   "id": "46bae9ec",
   "metadata": {},
   "outputs": [],
   "source": [
    "x = lambda n,p : n **p"
   ]
  },
  {
   "cell_type": "code",
   "execution_count": 8,
   "id": "75b9acdb",
   "metadata": {},
   "outputs": [
    {
     "data": {
      "text/plain": [
       "9"
      ]
     },
     "execution_count": 8,
     "metadata": {},
     "output_type": "execute_result"
    }
   ],
   "source": [
    "x(3,2)"
   ]
  },
  {
   "cell_type": "code",
   "execution_count": 1,
   "id": "560a5549",
   "metadata": {},
   "outputs": [],
   "source": [
    "s = lambda a,b : a+b"
   ]
  },
  {
   "cell_type": "code",
   "execution_count": 4,
   "id": "63d44593",
   "metadata": {},
   "outputs": [
    {
     "data": {
      "text/plain": [
       "8"
      ]
     },
     "execution_count": 4,
     "metadata": {},
     "output_type": "execute_result"
    }
   ],
   "source": [
    "s(3,5)"
   ]
  },
  {
   "cell_type": "code",
   "execution_count": 5,
   "id": "53c43f42",
   "metadata": {},
   "outputs": [],
   "source": [
    "c_f = lambda c : c*(9/5)+32"
   ]
  },
  {
   "cell_type": "code",
   "execution_count": 7,
   "id": "9d45604e",
   "metadata": {},
   "outputs": [
    {
     "data": {
      "text/plain": [
       "213.8"
      ]
     },
     "execution_count": 7,
     "metadata": {},
     "output_type": "execute_result"
    }
   ],
   "source": [
    "c_f(101)"
   ]
  },
  {
   "cell_type": "code",
   "execution_count": 8,
   "id": "8e376195",
   "metadata": {},
   "outputs": [],
   "source": [
    "finding_max = lambda num1, num2 : num1 if num1 > num2 else num2"
   ]
  },
  {
   "cell_type": "code",
   "execution_count": 9,
   "id": "338fb3e7",
   "metadata": {},
   "outputs": [
    {
     "data": {
      "text/plain": [
       "100"
      ]
     },
     "execution_count": 9,
     "metadata": {},
     "output_type": "execute_result"
    }
   ],
   "source": [
    "finding_max(100,3)"
   ]
  },
  {
   "cell_type": "code",
   "execution_count": 10,
   "id": "d5a8dee3",
   "metadata": {},
   "outputs": [
    {
     "data": {
      "text/plain": [
       "50"
      ]
     },
     "execution_count": 10,
     "metadata": {},
     "output_type": "execute_result"
    }
   ],
   "source": [
    "finding_max(50,34)"
   ]
  },
  {
   "cell_type": "code",
   "execution_count": 11,
   "id": "afbd7bc2",
   "metadata": {},
   "outputs": [
    {
     "data": {
      "text/plain": [
       "44"
      ]
     },
     "execution_count": 11,
     "metadata": {},
     "output_type": "execute_result"
    }
   ],
   "source": [
    "finding_max(44,32)"
   ]
  },
  {
   "cell_type": "code",
   "execution_count": 12,
   "id": "d835c80d",
   "metadata": {},
   "outputs": [],
   "source": [
    "length_string = lambda string : len(string)"
   ]
  },
  {
   "cell_type": "code",
   "execution_count": 13,
   "id": "1f61e5f9",
   "metadata": {},
   "outputs": [
    {
     "data": {
      "text/plain": [
       "4"
      ]
     },
     "execution_count": 13,
     "metadata": {},
     "output_type": "execute_result"
    }
   ],
   "source": [
    "length_string('This')"
   ]
  },
  {
   "cell_type": "code",
   "execution_count": 14,
   "id": "bba24129",
   "metadata": {},
   "outputs": [
    {
     "data": {
      "text/plain": [
       "57"
      ]
     },
     "execution_count": 14,
     "metadata": {},
     "output_type": "execute_result"
    }
   ],
   "source": [
    "\n",
    "length_string('This is my pwskill class and I am doing Practice/revision')"
   ]
  },
  {
   "cell_type": "markdown",
   "id": "2957f1c3",
   "metadata": {},
   "source": [
    "### Create a python program to sort the given list of tuples based on integer value using a lambda function.\n",
    "\n",
    "\n",
    "[('Sachin Tendulkar', 34357), ('Ricky Ponting', 27483), ('Jack Kallis', 25534), ('Virat Kohli', 24936)]\n"
   ]
  },
  {
   "cell_type": "code",
   "execution_count": 24,
   "id": "7c380901",
   "metadata": {},
   "outputs": [],
   "source": [
    "l = [('Sachin Tendulkar', 34357), ('Ricky Ponting', 27483), ('Jack Kallis', 25534), ('Virat Kohli', 24936)]\n"
   ]
  },
  {
   "cell_type": "code",
   "execution_count": 25,
   "id": "8f599639",
   "metadata": {},
   "outputs": [
    {
     "data": {
      "text/plain": [
       "[('Sachin Tendulkar', 34357),\n",
       " ('Ricky Ponting', 27483),\n",
       " ('Jack Kallis', 25534),\n",
       " ('Virat Kohli', 24936)]"
      ]
     },
     "execution_count": 25,
     "metadata": {},
     "output_type": "execute_result"
    }
   ],
   "source": [
    "l"
   ]
  },
  {
   "cell_type": "code",
   "execution_count": 26,
   "id": "ec2a4fec",
   "metadata": {},
   "outputs": [],
   "source": [
    "l.sort(key=lambda x : x[1])"
   ]
  },
  {
   "cell_type": "code",
   "execution_count": 27,
   "id": "11c99f07",
   "metadata": {},
   "outputs": [
    {
     "name": "stdout",
     "output_type": "stream",
     "text": [
      "[('Virat Kohli', 24936), ('Jack Kallis', 25534), ('Ricky Ponting', 27483), ('Sachin Tendulkar', 34357)]\n"
     ]
    }
   ],
   "source": [
    "print(l)"
   ]
  },
  {
   "cell_type": "markdown",
   "id": "93484a7f",
   "metadata": {},
   "source": [
    "### Write a Python Program to find the squares of all the numbers in the given list of integers using lambda and map functions.\n",
    "\n",
    "\n",
    "[1, 2, 3, 4, 5, 6, 7, 8, 9, 10]"
   ]
  },
  {
   "cell_type": "code",
   "execution_count": 29,
   "id": "f91690a2",
   "metadata": {},
   "outputs": [],
   "source": [
    "l = [1, 2, 3, 4, 5, 6, 7, 8, 9, 10]"
   ]
  },
  {
   "cell_type": "code",
   "execution_count": 31,
   "id": "afe2d299",
   "metadata": {},
   "outputs": [
    {
     "data": {
      "text/plain": [
       "[1, 2, 3, 4, 5, 6, 7, 8, 9, 10]"
      ]
     },
     "execution_count": 31,
     "metadata": {},
     "output_type": "execute_result"
    }
   ],
   "source": [
    "l"
   ]
  },
  {
   "cell_type": "code",
   "execution_count": 33,
   "id": "666f4352",
   "metadata": {},
   "outputs": [
    {
     "data": {
      "text/plain": [
       "[1, 4, 9, 16, 25, 36, 49, 64, 81, 100]"
      ]
     },
     "execution_count": 33,
     "metadata": {},
     "output_type": "execute_result"
    }
   ],
   "source": [
    "list(map(lambda x : x**2,l))"
   ]
  },
  {
   "cell_type": "markdown",
   "id": "91e27087",
   "metadata": {},
   "source": [
    "### Write a python program to convert the given list of integers into a tuple of strings. Use map and lambda functions\n",
    "\n",
    "Given String: [1, 2, 3, 4, 5, 6, 7, 8, 9, 10]"
   ]
  },
  {
   "cell_type": "code",
   "execution_count": 36,
   "id": "b5ca6cd7",
   "metadata": {},
   "outputs": [],
   "source": [
    "given = [1, 2, 3, 4, 5, 6, 7, 8, 9, 10]"
   ]
  },
  {
   "cell_type": "code",
   "execution_count": 37,
   "id": "57240617",
   "metadata": {},
   "outputs": [
    {
     "data": {
      "text/plain": [
       "[1, 2, 3, 4, 5, 6, 7, 8, 9, 10]"
      ]
     },
     "execution_count": 37,
     "metadata": {},
     "output_type": "execute_result"
    }
   ],
   "source": [
    "given"
   ]
  },
  {
   "cell_type": "code",
   "execution_count": 40,
   "id": "689d163c",
   "metadata": {},
   "outputs": [
    {
     "data": {
      "text/plain": [
       "('1', '2', '3', '4', '5', '6', '7', '8', '9', '10')"
      ]
     },
     "execution_count": 40,
     "metadata": {},
     "output_type": "execute_result"
    }
   ],
   "source": [
    "tuple(map(lambda x : str(x),given))"
   ]
  },
  {
   "cell_type": "markdown",
   "id": "38268b3f",
   "metadata": {},
   "source": [
    "### Write a python program using reduce function to compute the product of a list containing numbers from 1 to 25."
   ]
  },
  {
   "cell_type": "code",
   "execution_count": 43,
   "id": "a069cbb4",
   "metadata": {},
   "outputs": [],
   "source": [
    "l = list(range(1,26))"
   ]
  },
  {
   "cell_type": "code",
   "execution_count": 45,
   "id": "c928dece",
   "metadata": {},
   "outputs": [
    {
     "data": {
      "text/plain": [
       "[1,\n",
       " 2,\n",
       " 3,\n",
       " 4,\n",
       " 5,\n",
       " 6,\n",
       " 7,\n",
       " 8,\n",
       " 9,\n",
       " 10,\n",
       " 11,\n",
       " 12,\n",
       " 13,\n",
       " 14,\n",
       " 15,\n",
       " 16,\n",
       " 17,\n",
       " 18,\n",
       " 19,\n",
       " 20,\n",
       " 21,\n",
       " 22,\n",
       " 23,\n",
       " 24,\n",
       " 25]"
      ]
     },
     "execution_count": 45,
     "metadata": {},
     "output_type": "execute_result"
    }
   ],
   "source": [
    "l"
   ]
  },
  {
   "cell_type": "code",
   "execution_count": 47,
   "id": "872b430c",
   "metadata": {},
   "outputs": [],
   "source": [
    "from functools import reduce"
   ]
  },
  {
   "cell_type": "code",
   "execution_count": 50,
   "id": "373bfa08",
   "metadata": {},
   "outputs": [
    {
     "data": {
      "text/plain": [
       "15511210043330985984000000"
      ]
     },
     "execution_count": 50,
     "metadata": {},
     "output_type": "execute_result"
    }
   ],
   "source": [
    "reduce(lambda x,y : x*y,l)"
   ]
  },
  {
   "cell_type": "code",
   "execution_count": 51,
   "id": "d4610e0c",
   "metadata": {},
   "outputs": [
    {
     "name": "stdout",
     "output_type": "stream",
     "text": [
      "15511210043330985984000000\n"
     ]
    }
   ],
   "source": [
    "pro = 1\n",
    "for i in range(1,26):\n",
    "    pro = pro *i\n",
    "print(pro)"
   ]
  },
  {
   "cell_type": "markdown",
   "id": "6d5138da",
   "metadata": {},
   "source": [
    "### Write a python program to filter the numbers in a given list that are divisible by 2 and 3 using the filter function.\n",
    "\n",
    "\n",
    " given list = [2, 3, 6, 9, 27, 60, 90, 120, 55, 46]"
   ]
  },
  {
   "cell_type": "code",
   "execution_count": 53,
   "id": "740a1b30",
   "metadata": {},
   "outputs": [],
   "source": [
    "l = [2, 3, 6, 9, 27, 60, 90, 120, 55, 46]"
   ]
  },
  {
   "cell_type": "code",
   "execution_count": 58,
   "id": "f4fc38b5",
   "metadata": {},
   "outputs": [
    {
     "data": {
      "text/plain": [
       "[6, 60, 90, 120]"
      ]
     },
     "execution_count": 58,
     "metadata": {},
     "output_type": "execute_result"
    }
   ],
   "source": [
    "list(filter(lambda x : x %2 == 0 and  x %3 ==0, l))"
   ]
  },
  {
   "cell_type": "markdown",
   "id": "b267350a",
   "metadata": {},
   "source": [
    "### Write a python program to find palindromes in the given list of strings using lambda and filter function.\n",
    "\n",
    "['python', 'php', 'aba', 'radar', 'level']"
   ]
  },
  {
   "cell_type": "code",
   "execution_count": 64,
   "id": "629ecdeb",
   "metadata": {},
   "outputs": [],
   "source": [
    "l = ['python', 'php', 'aba', 'radar', 'level']"
   ]
  },
  {
   "cell_type": "code",
   "execution_count": 68,
   "id": "d038a11d",
   "metadata": {},
   "outputs": [
    {
     "data": {
      "text/plain": [
       "['python', 'php', 'aba', 'radar', 'level']"
      ]
     },
     "execution_count": 68,
     "metadata": {},
     "output_type": "execute_result"
    }
   ],
   "source": [
    "l"
   ]
  },
  {
   "cell_type": "code",
   "execution_count": 73,
   "id": "3fac2c0b",
   "metadata": {},
   "outputs": [
    {
     "data": {
      "text/plain": [
       "['php', 'aba', 'radar', 'level']"
      ]
     },
     "execution_count": 73,
     "metadata": {},
     "output_type": "execute_result"
    }
   ],
   "source": [
    "list(filter(lambda x : x[::-1] == x,l))"
   ]
  }
 ],
 "metadata": {
  "kernelspec": {
   "display_name": "Python 3 (ipykernel)",
   "language": "python",
   "name": "python3"
  },
  "language_info": {
   "codemirror_mode": {
    "name": "ipython",
    "version": 3
   },
   "file_extension": ".py",
   "mimetype": "text/x-python",
   "name": "python",
   "nbconvert_exporter": "python",
   "pygments_lexer": "ipython3",
   "version": "3.9.16"
  }
 },
 "nbformat": 4,
 "nbformat_minor": 5
}
