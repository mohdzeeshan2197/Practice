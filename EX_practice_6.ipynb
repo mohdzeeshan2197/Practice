{
 "cells": [
  {
   "cell_type": "code",
   "execution_count": 1,
   "id": "14b16fa7",
   "metadata": {},
   "outputs": [
    {
     "data": {
      "text/plain": [
       "int"
      ]
     },
     "execution_count": 1,
     "metadata": {},
     "output_type": "execute_result"
    }
   ],
   "source": [
    "type(34)"
   ]
  },
  {
   "cell_type": "code",
   "execution_count": 2,
   "id": "b20d839f",
   "metadata": {},
   "outputs": [
    {
     "name": "stdout",
     "output_type": "stream",
     "text": [
      "<class 'int'>\n"
     ]
    }
   ],
   "source": [
    "print(type(34))"
   ]
  },
  {
   "cell_type": "code",
   "execution_count": 3,
   "id": "2c9ae7ca",
   "metadata": {},
   "outputs": [
    {
     "data": {
      "text/plain": [
       "str"
      ]
     },
     "execution_count": 3,
     "metadata": {},
     "output_type": "execute_result"
    }
   ],
   "source": [
    "type('hello')"
   ]
  },
  {
   "cell_type": "code",
   "execution_count": 4,
   "id": "da14bb0a",
   "metadata": {},
   "outputs": [
    {
     "name": "stdout",
     "output_type": "stream",
     "text": [
      "<class 'str'>\n"
     ]
    }
   ],
   "source": [
    "print(type('hello'))"
   ]
  },
  {
   "cell_type": "code",
   "execution_count": 10,
   "id": "86a41254",
   "metadata": {},
   "outputs": [],
   "source": [
    "class test:\n",
    "    \n",
    "    def welcome_msg(self):\n",
    "        print(\"Welcome to pwskills\")"
   ]
  },
  {
   "cell_type": "code",
   "execution_count": 11,
   "id": "049318fc",
   "metadata": {},
   "outputs": [],
   "source": [
    "rohan = test()"
   ]
  },
  {
   "cell_type": "code",
   "execution_count": 12,
   "id": "d5dce1d7",
   "metadata": {},
   "outputs": [
    {
     "name": "stdout",
     "output_type": "stream",
     "text": [
      "Welcome to pwskills\n"
     ]
    }
   ],
   "source": [
    "rohan.welcome_msg()"
   ]
  },
  {
   "cell_type": "code",
   "execution_count": 13,
   "id": "746e0375",
   "metadata": {},
   "outputs": [],
   "source": [
    "aman = test()"
   ]
  },
  {
   "cell_type": "code",
   "execution_count": 14,
   "id": "62ae1ade",
   "metadata": {},
   "outputs": [
    {
     "name": "stdout",
     "output_type": "stream",
     "text": [
      "Welcome to pwskills\n"
     ]
    }
   ],
   "source": [
    "aman.welcome_msg()"
   ]
  },
  {
   "cell_type": "code",
   "execution_count": 27,
   "id": "22824d58",
   "metadata": {},
   "outputs": [],
   "source": [
    "class pwskills:\n",
    "    def __init__(self,mobile_number,student_id,student_email_id):\n",
    "        self.mobile_number = mobile_number\n",
    "        self.student_id = student_id\n",
    "        self.student_email_id = student_email_id\n",
    "    def personal_details(self):\n",
    "        \n",
    "        return self.mobile_number,self.student_id,self.student_email_id\n",
    "\n"
   ]
  },
  {
   "cell_type": "code",
   "execution_count": 28,
   "id": "ea1ca104",
   "metadata": {},
   "outputs": [],
   "source": [
    "Ram = pwskills(9898989565, 101,'ram@gmail.com')"
   ]
  },
  {
   "cell_type": "code",
   "execution_count": 29,
   "id": "6b7bbea2",
   "metadata": {},
   "outputs": [
    {
     "data": {
      "text/plain": [
       "(9898989565, 101, 'ram@gmail.com')"
      ]
     },
     "execution_count": 29,
     "metadata": {},
     "output_type": "execute_result"
    }
   ],
   "source": [
    "Ram.personal_details()"
   ]
  },
  {
   "cell_type": "code",
   "execution_count": 30,
   "id": "45d08a5b",
   "metadata": {},
   "outputs": [
    {
     "data": {
      "text/plain": [
       "9898989565"
      ]
     },
     "execution_count": 30,
     "metadata": {},
     "output_type": "execute_result"
    }
   ],
   "source": [
    "Ram.mobile_number"
   ]
  },
  {
   "cell_type": "code",
   "execution_count": 33,
   "id": "58af69f7",
   "metadata": {},
   "outputs": [
    {
     "data": {
      "text/plain": [
       "'ram@gmail.com'"
      ]
     },
     "execution_count": 33,
     "metadata": {},
     "output_type": "execute_result"
    }
   ],
   "source": [
    "Ram.student_email_id"
   ]
  },
  {
   "cell_type": "code",
   "execution_count": 34,
   "id": "ee706aa5",
   "metadata": {},
   "outputs": [
    {
     "data": {
      "text/plain": [
       "101"
      ]
     },
     "execution_count": 34,
     "metadata": {},
     "output_type": "execute_result"
    }
   ],
   "source": [
    "Ram.student_id"
   ]
  },
  {
   "cell_type": "code",
   "execution_count": 36,
   "id": "6a8640cb",
   "metadata": {},
   "outputs": [],
   "source": [
    "Gaurav = pwskills(555525252,102,'gaurav.gamil.com')"
   ]
  },
  {
   "cell_type": "code",
   "execution_count": 39,
   "id": "eb6b19a5",
   "metadata": {},
   "outputs": [
    {
     "data": {
      "text/plain": [
       "(555525252, 102, 'gaurav.gamil.com')"
      ]
     },
     "execution_count": 39,
     "metadata": {},
     "output_type": "execute_result"
    }
   ],
   "source": [
    "Gaurav.personal_details()"
   ]
  },
  {
   "cell_type": "code",
   "execution_count": 40,
   "id": "67ffed88",
   "metadata": {},
   "outputs": [
    {
     "data": {
      "text/plain": [
       "555525252"
      ]
     },
     "execution_count": 40,
     "metadata": {},
     "output_type": "execute_result"
    }
   ],
   "source": [
    "Gaurav.mobile_number"
   ]
  },
  {
   "cell_type": "code",
   "execution_count": 41,
   "id": "6044a680",
   "metadata": {},
   "outputs": [
    {
     "data": {
      "text/plain": [
       "'gaurav.gamil.com'"
      ]
     },
     "execution_count": 41,
     "metadata": {},
     "output_type": "execute_result"
    }
   ],
   "source": [
    "Gaurav.student_email_id"
   ]
  },
  {
   "cell_type": "code",
   "execution_count": 58,
   "id": "c5ab3a9a",
   "metadata": {},
   "outputs": [],
   "source": [
    "class my_class:\n",
    "    \n",
    "    def __init__(sudh,name ,number, email,student_id):\n",
    "        sudh.name = name\n",
    "        sudh.number = number\n",
    "        sudh.email = email\n",
    "        sudh.student_id = student_id\n",
    "    def details(sudh):\n",
    "        return sudh.name,sudh.number,sudh.email,sudh.student_id"
   ]
  },
  {
   "cell_type": "code",
   "execution_count": 59,
   "id": "dae21420",
   "metadata": {},
   "outputs": [],
   "source": [
    "cls = my_class('Malaya',52525,'malaya@gmail.com',2)"
   ]
  },
  {
   "cell_type": "code",
   "execution_count": 60,
   "id": "f1245b50",
   "metadata": {},
   "outputs": [
    {
     "data": {
      "text/plain": [
       "('Malaya', 52525, 'malaya@gmail.com', 2)"
      ]
     },
     "execution_count": 60,
     "metadata": {},
     "output_type": "execute_result"
    }
   ],
   "source": [
    "cls.details()"
   ]
  },
  {
   "cell_type": "code",
   "execution_count": 61,
   "id": "b7012199",
   "metadata": {},
   "outputs": [
    {
     "data": {
      "text/plain": [
       "'Malaya'"
      ]
     },
     "execution_count": 61,
     "metadata": {},
     "output_type": "execute_result"
    }
   ],
   "source": [
    "cls.name"
   ]
  },
  {
   "cell_type": "code",
   "execution_count": 63,
   "id": "499ee2c2",
   "metadata": {},
   "outputs": [
    {
     "data": {
      "text/plain": [
       "'malaya@gmail.com'"
      ]
     },
     "execution_count": 63,
     "metadata": {},
     "output_type": "execute_result"
    }
   ],
   "source": [
    "cls.email"
   ]
  },
  {
   "cell_type": "code",
   "execution_count": 64,
   "id": "c6f97b3d",
   "metadata": {},
   "outputs": [
    {
     "data": {
      "text/plain": [
       "52525"
      ]
     },
     "execution_count": 64,
     "metadata": {},
     "output_type": "execute_result"
    }
   ],
   "source": [
    "cls.number"
   ]
  },
  {
   "cell_type": "code",
   "execution_count": 65,
   "id": "58212dd0",
   "metadata": {},
   "outputs": [
    {
     "data": {
      "text/plain": [
       "2"
      ]
     },
     "execution_count": 65,
     "metadata": {},
     "output_type": "execute_result"
    }
   ],
   "source": [
    "cls.student_id"
   ]
  },
  {
   "cell_type": "code",
   "execution_count": 67,
   "id": "1d99a564",
   "metadata": {},
   "outputs": [
    {
     "data": {
      "text/plain": [
       "(-1+3j)"
      ]
     },
     "execution_count": 67,
     "metadata": {},
     "output_type": "execute_result"
    }
   ],
   "source": [
    "num1= 23\n",
    "\n",
    "num2= 44\n",
    "\n",
    "num2= 2+3j\n",
    "\n",
    "num1= num2.imag\n",
    "\n",
    "num2-num1"
   ]
  },
  {
   "cell_type": "code",
   "execution_count": 80,
   "id": "5a1dd9dd",
   "metadata": {},
   "outputs": [
    {
     "name": "stdout",
     "output_type": "stream",
     "text": [
      "Enter Your Percentage: 5000\n",
      "Please Enter Correct Percentage(Percenteage Between 0 TO 100)\n"
     ]
    }
   ],
   "source": [
    "per = int(input(\"Enter Your Percentage: \"))\n",
    "\n",
    "if per > 100 or per < 0:\n",
    "    print(\"Please Enter Correct Percentage(Percenteage Between 0 TO 100)\")\n",
    "elif per > 90:\n",
    "    print(\"Grade : A\")\n",
    "elif per > 80 and per <= 90:\n",
    "    print(\"Grade : B\")\n",
    "elif per >= 60 and per <= 80:\n",
    "    print(\"Grade : C\")\n",
    "elif per < 60:\n",
    "    print(\"Grade : D\")\n"
   ]
  },
  {
   "cell_type": "code",
   "execution_count": 84,
   "id": "1605bfdf",
   "metadata": {},
   "outputs": [
    {
     "name": "stdout",
     "output_type": "stream",
     "text": [
      "Enter Cost Price : 50000\n",
      "Tax :  2500.0 Total Amount :  52500.0\n"
     ]
    }
   ],
   "source": [
    "amt = int(input(\"Enter Cost Price : \"))\n",
    "\n",
    "if amt > 100000:\n",
    "    tax = (15/100 )* amt\n",
    "    total_amt = tax + amt\n",
    "    print(\"Tax : \", tax, \"Total Amount : \",total_amt)\n",
    "elif amt > 50000 and amt <= 100000:\n",
    "    tax = (10/100)*amt\n",
    "    total_amt = tax + amt\n",
    "    print(\"Tax : \", tax, \"Total Amount : \",total_amt)\n",
    "elif amt <= 50000:\n",
    "    tax = (5/100)*amt\n",
    "    total_amt = tax + amt\n",
    "    print(\"Tax : \", tax, \"Total Amount : \",total_amt)"
   ]
  },
  {
   "cell_type": "code",
   "execution_count": 85,
   "id": "ab7a995a",
   "metadata": {},
   "outputs": [
    {
     "name": "stdout",
     "output_type": "stream",
     "text": [
      "Enter City Name To see The Monument : Delhi\n",
      "RED FORT\n"
     ]
    }
   ],
   "source": [
    "citi = input(\"Enter City Name To see The Monument : \")\n",
    "\n",
    "if citi == 'Delhi':\n",
    "    print(\"RED FORT\")\n",
    "elif citi == 'Agra':\n",
    "    print(\"TAJ MAHAL\")\n",
    "elif citi ('Jaipur'):\n",
    "    print(\"Jal Mahal\")"
   ]
  },
  {
   "cell_type": "code",
   "execution_count": 99,
   "id": "43ef2143",
   "metadata": {},
   "outputs": [
    {
     "name": "stdout",
     "output_type": "stream",
     "text": [
      "Enter Number: 1000\n",
      "1000  is divisible by 3: 5 times\n"
     ]
    }
   ],
   "source": [
    "n = int(input(\"Enter Number: \"))\n",
    "tem= n\n",
    "c = 0\n",
    "if n <= 10:\n",
    "    print(\"Enter Number Greater Than 10\")\n",
    "while n > 10:\n",
    "    n /= 3\n",
    "    c += 1\n",
    "print(tem,\" is divisible by 3:\",c,\"times\")"
   ]
  },
  {
   "cell_type": "code",
   "execution_count": 102,
   "id": "77d25626",
   "metadata": {},
   "outputs": [
    {
     "name": "stdout",
     "output_type": "stream",
     "text": [
      "10\n",
      "9\n",
      "8\n",
      "7\n",
      "6\n",
      "5\n",
      "4\n",
      "3\n",
      "2\n",
      "1\n"
     ]
    }
   ],
   "source": [
    "i = 10\n",
    "while i >= 1:\n",
    "    print(i)\n",
    "    i -=1"
   ]
  },
  {
   "cell_type": "code",
   "execution_count": 104,
   "id": "a9f7e1dc",
   "metadata": {},
   "outputs": [
    {
     "name": "stdout",
     "output_type": "stream",
     "text": [
      "1\n",
      "2\n",
      "3\n",
      "4\n",
      "5\n",
      "6\n",
      "7\n",
      "8\n",
      "9\n",
      "10\n"
     ]
    }
   ],
   "source": [
    "i = 1\n",
    "while i <= 10:\n",
    "    print(i)\n",
    "    i +=1"
   ]
  }
 ],
 "metadata": {
  "kernelspec": {
   "display_name": "Python 3 (ipykernel)",
   "language": "python",
   "name": "python3"
  },
  "language_info": {
   "codemirror_mode": {
    "name": "ipython",
    "version": 3
   },
   "file_extension": ".py",
   "mimetype": "text/x-python",
   "name": "python",
   "nbconvert_exporter": "python",
   "pygments_lexer": "ipython3",
   "version": "3.9.16"
  }
 },
 "nbformat": 4,
 "nbformat_minor": 5
}
