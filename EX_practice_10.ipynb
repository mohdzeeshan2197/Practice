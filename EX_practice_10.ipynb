{
 "cells": [
  {
   "cell_type": "markdown",
   "id": "0122fc05",
   "metadata": {},
   "source": [
    "#### decorator "
   ]
  },
  {
   "cell_type": "code",
   "execution_count": 1,
   "id": "5b6325d7",
   "metadata": {},
   "outputs": [],
   "source": [
    "def demo():\n",
    "    print(\"start of function\")\n",
    "    print(\"this is my fun to test\")\n",
    "    print(\"end of function\")"
   ]
  },
  {
   "cell_type": "code",
   "execution_count": 2,
   "id": "8f7525d4",
   "metadata": {},
   "outputs": [
    {
     "name": "stdout",
     "output_type": "stream",
     "text": [
      "start of function\n",
      "this is my fun to test\n",
      "end of function\n"
     ]
    }
   ],
   "source": [
    "demo()"
   ]
  },
  {
   "cell_type": "code",
   "execution_count": 3,
   "id": "0f6ecb18",
   "metadata": {},
   "outputs": [],
   "source": [
    "def deco(fun):\n",
    "    \n",
    "    def inner_dec():\n",
    "        print(\"This is the starting of the function\")\n",
    "        fun()\n",
    "        print(\"This is the ending of the function\")\n",
    "    return inner_dec"
   ]
  },
  {
   "cell_type": "code",
   "execution_count": 4,
   "id": "a98b6af3",
   "metadata": {},
   "outputs": [],
   "source": [
    "@deco\n",
    "def new_fun():\n",
    "    print(22+5)"
   ]
  },
  {
   "cell_type": "code",
   "execution_count": 5,
   "id": "1710b163",
   "metadata": {},
   "outputs": [
    {
     "name": "stdout",
     "output_type": "stream",
     "text": [
      "This is the starting of the function\n",
      "27\n",
      "This is the ending of the function\n"
     ]
    }
   ],
   "source": [
    "new_fun()"
   ]
  },
  {
   "cell_type": "code",
   "execution_count": 6,
   "id": "17b2b4e9",
   "metadata": {},
   "outputs": [],
   "source": [
    "@deco\n",
    "def new_2():\n",
    "    print(\"addition\",30+5)"
   ]
  },
  {
   "cell_type": "code",
   "execution_count": 7,
   "id": "ac791c65",
   "metadata": {},
   "outputs": [
    {
     "name": "stdout",
     "output_type": "stream",
     "text": [
      "This is the starting of the function\n",
      "addition 35\n",
      "This is the ending of the function\n"
     ]
    }
   ],
   "source": [
    "new_2()"
   ]
  },
  {
   "cell_type": "code",
   "execution_count": null,
   "id": "13d3ce37",
   "metadata": {},
   "outputs": [],
   "source": []
  },
  {
   "cell_type": "code",
   "execution_count": 8,
   "id": "f04c6308",
   "metadata": {},
   "outputs": [],
   "source": [
    "import time "
   ]
  },
  {
   "cell_type": "code",
   "execution_count": 9,
   "id": "799426a1",
   "metadata": {},
   "outputs": [],
   "source": [
    "def time_test(fun):\n",
    "    def time_test_inner():\n",
    "        start = time.time()\n",
    "        fun()\n",
    "        end = time.time()\n",
    "        print(end - start)\n",
    "    return time_test_inner"
   ]
  },
  {
   "cell_type": "code",
   "execution_count": 10,
   "id": "b8cf9e56",
   "metadata": {},
   "outputs": [],
   "source": [
    "@time_test\n",
    "def cal():\n",
    "    print(44+5)"
   ]
  },
  {
   "cell_type": "code",
   "execution_count": 11,
   "id": "6f79116d",
   "metadata": {},
   "outputs": [
    {
     "name": "stdout",
     "output_type": "stream",
     "text": [
      "49\n",
      "0.0\n"
     ]
    }
   ],
   "source": [
    "cal()"
   ]
  },
  {
   "cell_type": "code",
   "execution_count": 12,
   "id": "e7c10636",
   "metadata": {},
   "outputs": [],
   "source": [
    "@time_test\n",
    "def test():\n",
    "    for i in range(10000000):\n",
    "        pass"
   ]
  },
  {
   "cell_type": "code",
   "execution_count": 13,
   "id": "d4c0e504",
   "metadata": {},
   "outputs": [
    {
     "name": "stdout",
     "output_type": "stream",
     "text": [
      "0.40818309783935547\n"
     ]
    }
   ],
   "source": [
    "test()"
   ]
  },
  {
   "cell_type": "code",
   "execution_count": 14,
   "id": "8f245788",
   "metadata": {},
   "outputs": [],
   "source": [
    "class pwskills:\n",
    "    \n",
    "    def __init__(self,name,email):\n",
    "        self.name = name\n",
    "        self.email = email\n",
    "        \n",
    "    def personal_details(self):\n",
    "        return self.name,self.email\n",
    "    "
   ]
  },
  {
   "cell_type": "code",
   "execution_count": 15,
   "id": "76649c67",
   "metadata": {},
   "outputs": [],
   "source": [
    "p = pwskills('mohan','mohan@gmail.com')"
   ]
  },
  {
   "cell_type": "code",
   "execution_count": 16,
   "id": "0b99b1d5",
   "metadata": {},
   "outputs": [
    {
     "data": {
      "text/plain": [
       "'mohan'"
      ]
     },
     "execution_count": 16,
     "metadata": {},
     "output_type": "execute_result"
    }
   ],
   "source": [
    "p.name"
   ]
  },
  {
   "cell_type": "code",
   "execution_count": 17,
   "id": "c9bed8ed",
   "metadata": {},
   "outputs": [
    {
     "data": {
      "text/plain": [
       "'mohan@gmail.com'"
      ]
     },
     "execution_count": 17,
     "metadata": {},
     "output_type": "execute_result"
    }
   ],
   "source": [
    "p.email"
   ]
  },
  {
   "cell_type": "code",
   "execution_count": 18,
   "id": "42e5ac8b",
   "metadata": {},
   "outputs": [
    {
     "data": {
      "text/plain": [
       "('mohan', 'mohan@gmail.com')"
      ]
     },
     "execution_count": 18,
     "metadata": {},
     "output_type": "execute_result"
    }
   ],
   "source": [
    "p.personal_details()"
   ]
  },
  {
   "cell_type": "code",
   "execution_count": 19,
   "id": "cb8ab8a3",
   "metadata": {},
   "outputs": [],
   "source": [
    "class pw_skills:\n",
    "    def __init__(self,name,email):\n",
    "        self.name = name \n",
    "        self.email = email\n",
    "\n",
    "    @classmethod    \n",
    "    def details(cls,name,email):\n",
    "        return cls(name,email)\n",
    "    \n",
    "    def personal_details(self):\n",
    "        print(self.name,self.email)"
   ]
  },
  {
   "cell_type": "code",
   "execution_count": 20,
   "id": "56c3c17f",
   "metadata": {},
   "outputs": [],
   "source": [
    "pw = pw_skills.details('sudhanshu','sudh@gmail.com')"
   ]
  },
  {
   "cell_type": "code",
   "execution_count": 21,
   "id": "c9521ded",
   "metadata": {},
   "outputs": [
    {
     "name": "stdout",
     "output_type": "stream",
     "text": [
      "sudhanshu sudh@gmail.com\n"
     ]
    }
   ],
   "source": [
    "pw.personal_details()"
   ]
  },
  {
   "cell_type": "code",
   "execution_count": 22,
   "id": "64ff162e",
   "metadata": {},
   "outputs": [
    {
     "data": {
      "text/plain": [
       "'sudhanshu'"
      ]
     },
     "execution_count": 22,
     "metadata": {},
     "output_type": "execute_result"
    }
   ],
   "source": [
    "pw.name"
   ]
  },
  {
   "cell_type": "code",
   "execution_count": 23,
   "id": "182c4951",
   "metadata": {},
   "outputs": [
    {
     "data": {
      "text/plain": [
       "'sudh@gmail.com'"
      ]
     },
     "execution_count": 23,
     "metadata": {},
     "output_type": "execute_result"
    }
   ],
   "source": [
    "pw.email"
   ]
  },
  {
   "cell_type": "code",
   "execution_count": 24,
   "id": "06857c22",
   "metadata": {},
   "outputs": [],
   "source": [
    "class student:\n",
    "    \n",
    "    mobile = 9898765467\n",
    "    \n",
    "    def __init__(self,name,email):\n",
    "        self.name = name\n",
    "        self.email = email\n",
    "        \n",
    "    @classmethod\n",
    "    def enter_details(cls,name,email):\n",
    "        return cls(name,email)\n",
    "    @classmethod\n",
    "    def change_mobile(cls,mobile):\n",
    "        student.mobile = mobile\n",
    "    \n",
    "    \n",
    "    def detail_student(self):\n",
    "        print(self.name,self.email,student.mobile)\n",
    "    "
   ]
  },
  {
   "cell_type": "code",
   "execution_count": 25,
   "id": "1a63148c",
   "metadata": {},
   "outputs": [
    {
     "data": {
      "text/plain": [
       "9898765467"
      ]
     },
     "execution_count": 25,
     "metadata": {},
     "output_type": "execute_result"
    }
   ],
   "source": [
    "student.mobile"
   ]
  },
  {
   "cell_type": "code",
   "execution_count": 26,
   "id": "6a33204d",
   "metadata": {},
   "outputs": [],
   "source": [
    "st = student.enter_details('anuragh','anu@gmail.com')"
   ]
  },
  {
   "cell_type": "code",
   "execution_count": 27,
   "id": "7f8742d7",
   "metadata": {},
   "outputs": [
    {
     "name": "stdout",
     "output_type": "stream",
     "text": [
      "anuragh anu@gmail.com 9898765467\n"
     ]
    }
   ],
   "source": [
    "st.detail_student()"
   ]
  },
  {
   "cell_type": "code",
   "execution_count": 28,
   "id": "9c6648ca",
   "metadata": {},
   "outputs": [
    {
     "data": {
      "text/plain": [
       "'anuragh'"
      ]
     },
     "execution_count": 28,
     "metadata": {},
     "output_type": "execute_result"
    }
   ],
   "source": [
    "st.name"
   ]
  },
  {
   "cell_type": "code",
   "execution_count": 29,
   "id": "5977f0bd",
   "metadata": {},
   "outputs": [
    {
     "data": {
      "text/plain": [
       "9898765467"
      ]
     },
     "execution_count": 29,
     "metadata": {},
     "output_type": "execute_result"
    }
   ],
   "source": [
    "st.mobile"
   ]
  },
  {
   "cell_type": "code",
   "execution_count": 30,
   "id": "a17d7edc",
   "metadata": {},
   "outputs": [
    {
     "name": "stdout",
     "output_type": "stream",
     "text": [
      "anuragh anu@gmail.com 9898765467\n"
     ]
    }
   ],
   "source": [
    "st.detail_student()"
   ]
  },
  {
   "cell_type": "code",
   "execution_count": 31,
   "id": "8c7f0237",
   "metadata": {},
   "outputs": [
    {
     "data": {
      "text/plain": [
       "'anu@gmail.com'"
      ]
     },
     "execution_count": 31,
     "metadata": {},
     "output_type": "execute_result"
    }
   ],
   "source": [
    "st.email"
   ]
  },
  {
   "cell_type": "code",
   "execution_count": 32,
   "id": "9579aa7b",
   "metadata": {},
   "outputs": [],
   "source": [
    "st.change_mobile(9999944444)"
   ]
  },
  {
   "cell_type": "code",
   "execution_count": 33,
   "id": "e61b7d92",
   "metadata": {},
   "outputs": [
    {
     "name": "stdout",
     "output_type": "stream",
     "text": [
      "anuragh anu@gmail.com 9999944444\n"
     ]
    }
   ],
   "source": [
    "st.detail_student()"
   ]
  },
  {
   "cell_type": "code",
   "execution_count": 34,
   "id": "043a0151",
   "metadata": {},
   "outputs": [
    {
     "data": {
      "text/plain": [
       "9999944444"
      ]
     },
     "execution_count": 34,
     "metadata": {},
     "output_type": "execute_result"
    }
   ],
   "source": [
    "student.mobile"
   ]
  },
  {
   "cell_type": "code",
   "execution_count": 35,
   "id": "1f05efe1",
   "metadata": {},
   "outputs": [],
   "source": [
    "def course(cls,course_name):\n",
    "    print(\"Name of the course:\",course_name)\n",
    "    "
   ]
  },
  {
   "cell_type": "code",
   "execution_count": 36,
   "id": "97dfad19",
   "metadata": {},
   "outputs": [],
   "source": [
    "student.course = classmethod(course)"
   ]
  },
  {
   "cell_type": "code",
   "execution_count": 37,
   "id": "44f8c094",
   "metadata": {},
   "outputs": [
    {
     "name": "stdout",
     "output_type": "stream",
     "text": [
      "Name of the course: Data science masters\n"
     ]
    }
   ],
   "source": [
    "student.course('Data science masters')"
   ]
  },
  {
   "cell_type": "code",
   "execution_count": 38,
   "id": "10657c10",
   "metadata": {},
   "outputs": [],
   "source": [
    "def mentor(cls,list_of_mentor):\n",
    "    print(list_of_mentor)"
   ]
  },
  {
   "cell_type": "code",
   "execution_count": 39,
   "id": "0d4d94b1",
   "metadata": {},
   "outputs": [],
   "source": [
    "student.mentor = classmethod(mentor)"
   ]
  },
  {
   "cell_type": "code",
   "execution_count": 40,
   "id": "dbc78aad",
   "metadata": {},
   "outputs": [
    {
     "name": "stdout",
     "output_type": "stream",
     "text": [
      "['sudhanshu', 'krish naik']\n"
     ]
    }
   ],
   "source": [
    "student.mentor(['sudhanshu','krish naik'])"
   ]
  },
  {
   "cell_type": "code",
   "execution_count": 41,
   "id": "a69bf54b",
   "metadata": {},
   "outputs": [],
   "source": [
    "class student1:\n",
    "    mobile = 9993334445\n",
    "    def __init__(self,name,email):\n",
    "        self.name = name\n",
    "        self.email = email\n",
    "    @classmethod    \n",
    "    def personal_details(cls,name,email):\n",
    "        return cls(name,email)\n",
    "    @classmethod\n",
    "    def change_mobile(cls,mobile):\n",
    "        student1.mobile = mobile\n",
    "    def call_details(self):\n",
    "        print(self.name,self.email,student1.mobile)"
   ]
  },
  {
   "cell_type": "code",
   "execution_count": 42,
   "id": "0316c2a5",
   "metadata": {},
   "outputs": [],
   "source": [
    "std1 = student1.personal_details('mohan','mohan@gmail.com')"
   ]
  },
  {
   "cell_type": "code",
   "execution_count": 43,
   "id": "bb2f7a37",
   "metadata": {},
   "outputs": [
    {
     "name": "stdout",
     "output_type": "stream",
     "text": [
      "mohan mohan@gmail.com 9993334445\n"
     ]
    }
   ],
   "source": [
    "std1.call_details()"
   ]
  },
  {
   "cell_type": "code",
   "execution_count": 44,
   "id": "8dded9fb",
   "metadata": {},
   "outputs": [],
   "source": [
    "std1.change_mobile(3334445534)"
   ]
  },
  {
   "cell_type": "code",
   "execution_count": 45,
   "id": "8a547064",
   "metadata": {},
   "outputs": [
    {
     "data": {
      "text/plain": [
       "3334445534"
      ]
     },
     "execution_count": 45,
     "metadata": {},
     "output_type": "execute_result"
    }
   ],
   "source": [
    "std1.mobile"
   ]
  },
  {
   "cell_type": "code",
   "execution_count": 46,
   "id": "384974fe",
   "metadata": {},
   "outputs": [
    {
     "name": "stdout",
     "output_type": "stream",
     "text": [
      "mohan mohan@gmail.com 3334445534\n"
     ]
    }
   ],
   "source": [
    "std1.call_details()"
   ]
  },
  {
   "cell_type": "code",
   "execution_count": 47,
   "id": "5f628fa8",
   "metadata": {},
   "outputs": [],
   "source": [
    "del student1.change_mobile"
   ]
  },
  {
   "cell_type": "code",
   "execution_count": 48,
   "id": "a2fef3b5",
   "metadata": {},
   "outputs": [],
   "source": [
    "del student1.call_details"
   ]
  },
  {
   "cell_type": "code",
   "execution_count": 49,
   "id": "8762011e",
   "metadata": {},
   "outputs": [],
   "source": [
    "delattr(student1,'personal_details')"
   ]
  },
  {
   "cell_type": "code",
   "execution_count": 50,
   "id": "024410e9",
   "metadata": {},
   "outputs": [],
   "source": [
    "del student1.mobile"
   ]
  },
  {
   "cell_type": "code",
   "execution_count": null,
   "id": "fbe829d0",
   "metadata": {},
   "outputs": [],
   "source": []
  },
  {
   "cell_type": "code",
   "execution_count": 51,
   "id": "448d99ee",
   "metadata": {},
   "outputs": [],
   "source": [
    "class demo:\n",
    "    \n",
    "    def a(self):\n",
    "        print(\"this is instance of class\")\n",
    "    \n",
    "    @classmethod\n",
    "    def b(cls,name,email):\n",
    "             print(name,email)\n",
    "    \n",
    "    @staticmethod\n",
    "    def c(list_of_mentor):\n",
    "        print(list_of_mentor)\n",
    "        "
   ]
  },
  {
   "cell_type": "code",
   "execution_count": 52,
   "id": "9af44fdd",
   "metadata": {},
   "outputs": [
    {
     "name": "stdout",
     "output_type": "stream",
     "text": [
      "Heera heera@gmail.com\n"
     ]
    }
   ],
   "source": [
    "demo.b('Heera','heera@gmail.com')"
   ]
  },
  {
   "cell_type": "code",
   "execution_count": 53,
   "id": "bfa5733f",
   "metadata": {},
   "outputs": [
    {
     "ename": "TypeError",
     "evalue": "a() missing 1 required positional argument: 'self'",
     "output_type": "error",
     "traceback": [
      "\u001b[1;31m---------------------------------------------------------------------------\u001b[0m",
      "\u001b[1;31mTypeError\u001b[0m                                 Traceback (most recent call last)",
      "Cell \u001b[1;32mIn[53], line 1\u001b[0m\n\u001b[1;32m----> 1\u001b[0m \u001b[43mdemo\u001b[49m\u001b[38;5;241;43m.\u001b[39;49m\u001b[43ma\u001b[49m\u001b[43m(\u001b[49m\u001b[43m)\u001b[49m\n",
      "\u001b[1;31mTypeError\u001b[0m: a() missing 1 required positional argument: 'self'"
     ]
    }
   ],
   "source": [
    "demo.a()"
   ]
  },
  {
   "cell_type": "code",
   "execution_count": 54,
   "id": "20712444",
   "metadata": {},
   "outputs": [
    {
     "name": "stdout",
     "output_type": "stream",
     "text": [
      "['krish', 'naik']\n"
     ]
    }
   ],
   "source": [
    "demo.c(['krish','naik'])"
   ]
  },
  {
   "cell_type": "code",
   "execution_count": 55,
   "id": "dd77b752",
   "metadata": {},
   "outputs": [
    {
     "name": "stdout",
     "output_type": "stream",
     "text": [
      "['sudhanshu', 'kumar']\n"
     ]
    }
   ],
   "source": [
    "demo.c(['sudhanshu','kumar'])"
   ]
  },
  {
   "cell_type": "code",
   "execution_count": 56,
   "id": "e81bb10b",
   "metadata": {},
   "outputs": [],
   "source": [
    "d = demo()"
   ]
  },
  {
   "cell_type": "code",
   "execution_count": 57,
   "id": "d58a5960",
   "metadata": {},
   "outputs": [
    {
     "name": "stdout",
     "output_type": "stream",
     "text": [
      "this is instance of class\n"
     ]
    }
   ],
   "source": [
    "d.a()"
   ]
  },
  {
   "cell_type": "code",
   "execution_count": 58,
   "id": "37950eb6",
   "metadata": {},
   "outputs": [],
   "source": [
    "class pw_class:\n",
    "    \n",
    "    def demo(self):\n",
    "        print(\"associated with class\")\n",
    "        self.mentor_name(['mr.krish','mr.sudhanshu'])\n",
    "    @classmethod\n",
    "    def mentor_email_id(cls,email_id):\n",
    "        print(email_id)\n",
    "        cls.mentor_name(['sudhanshu','krish naik'])\n",
    "        print('This is my class method')\n",
    "    \n",
    "    @staticmethod\n",
    "    def mentor_name(name_list):\n",
    "        print(name_list)\n",
    "        pw_class.class_timming_list([9,10,11,12])\n",
    "        \n",
    "\n",
    "    @staticmethod          \n",
    "    def class_timming_list(time_list):\n",
    "        print(time_list)\n",
    "        \n",
    "     \n",
    "    @staticmethod\n",
    "    def my_static_method():\n",
    "        pw_class.mentor_email_id('email@gmail.com')\n",
    "        \n",
    "              \n",
    "\n",
    "              "
   ]
  },
  {
   "cell_type": "code",
   "execution_count": 59,
   "id": "ecb03e9b",
   "metadata": {},
   "outputs": [
    {
     "name": "stdout",
     "output_type": "stream",
     "text": [
      "sudh@gmail.com\n",
      "['sudhanshu', 'krish naik']\n",
      "[9, 10, 11, 12]\n",
      "This is my class method\n"
     ]
    }
   ],
   "source": [
    "pw_class.mentor_email_id('sudh@gmail.com')"
   ]
  },
  {
   "cell_type": "code",
   "execution_count": 60,
   "id": "6d17d6f5",
   "metadata": {},
   "outputs": [
    {
     "name": "stdout",
     "output_type": "stream",
     "text": [
      "['sudh', 'krish']\n",
      "[9, 10, 11, 12]\n"
     ]
    }
   ],
   "source": [
    "pw_class.mentor_name(['sudh','krish'])"
   ]
  },
  {
   "cell_type": "code",
   "execution_count": 61,
   "id": "7dc10c7d",
   "metadata": {},
   "outputs": [
    {
     "name": "stdout",
     "output_type": "stream",
     "text": [
      "['9:30', '10:30']\n"
     ]
    }
   ],
   "source": [
    "pw_class.class_timming_list(['9:30','10:30'])"
   ]
  },
  {
   "cell_type": "code",
   "execution_count": 62,
   "id": "88dcfdea",
   "metadata": {},
   "outputs": [],
   "source": [
    "# after "
   ]
  },
  {
   "cell_type": "code",
   "execution_count": 63,
   "id": "e9ec8586",
   "metadata": {},
   "outputs": [
    {
     "name": "stdout",
     "output_type": "stream",
     "text": [
      "sudhkumar@gmail.com\n",
      "['sudhanshu', 'krish naik']\n",
      "[9, 10, 11, 12]\n",
      "This is my class method\n"
     ]
    }
   ],
   "source": [
    "pw_class.mentor_email_id('sudhkumar@gmail.com')"
   ]
  },
  {
   "cell_type": "code",
   "execution_count": 64,
   "id": "796a816e",
   "metadata": {},
   "outputs": [],
   "source": [
    "pw = pw_class()"
   ]
  },
  {
   "cell_type": "code",
   "execution_count": 65,
   "id": "4b08ef4f",
   "metadata": {},
   "outputs": [
    {
     "name": "stdout",
     "output_type": "stream",
     "text": [
      "associated with class\n",
      "['mr.krish', 'mr.sudhanshu']\n",
      "[9, 10, 11, 12]\n"
     ]
    }
   ],
   "source": [
    "pw.demo()"
   ]
  },
  {
   "cell_type": "code",
   "execution_count": 66,
   "id": "a75ed82d",
   "metadata": {},
   "outputs": [
    {
     "name": "stdout",
     "output_type": "stream",
     "text": [
      "email@gmail.com\n",
      "['sudhanshu', 'krish naik']\n",
      "[9, 10, 11, 12]\n",
      "This is my class method\n"
     ]
    }
   ],
   "source": [
    "pw_class.my_static_method()"
   ]
  },
  {
   "cell_type": "code",
   "execution_count": null,
   "id": "097f4ccc",
   "metadata": {},
   "outputs": [],
   "source": []
  },
  {
   "cell_type": "code",
   "execution_count": 67,
   "id": "d36fb425",
   "metadata": {},
   "outputs": [
    {
     "data": {
      "text/plain": [
       "['__add__',\n",
       " '__class__',\n",
       " '__contains__',\n",
       " '__delattr__',\n",
       " '__dir__',\n",
       " '__doc__',\n",
       " '__eq__',\n",
       " '__format__',\n",
       " '__ge__',\n",
       " '__getattribute__',\n",
       " '__getitem__',\n",
       " '__getnewargs__',\n",
       " '__gt__',\n",
       " '__hash__',\n",
       " '__init__',\n",
       " '__init_subclass__',\n",
       " '__iter__',\n",
       " '__le__',\n",
       " '__len__',\n",
       " '__lt__',\n",
       " '__mod__',\n",
       " '__mul__',\n",
       " '__ne__',\n",
       " '__new__',\n",
       " '__reduce__',\n",
       " '__reduce_ex__',\n",
       " '__repr__',\n",
       " '__rmod__',\n",
       " '__rmul__',\n",
       " '__setattr__',\n",
       " '__sizeof__',\n",
       " '__str__',\n",
       " '__subclasshook__',\n",
       " 'capitalize',\n",
       " 'casefold',\n",
       " 'center',\n",
       " 'count',\n",
       " 'encode',\n",
       " 'endswith',\n",
       " 'expandtabs',\n",
       " 'find',\n",
       " 'format',\n",
       " 'format_map',\n",
       " 'index',\n",
       " 'isalnum',\n",
       " 'isalpha',\n",
       " 'isascii',\n",
       " 'isdecimal',\n",
       " 'isdigit',\n",
       " 'isidentifier',\n",
       " 'islower',\n",
       " 'isnumeric',\n",
       " 'isprintable',\n",
       " 'isspace',\n",
       " 'istitle',\n",
       " 'isupper',\n",
       " 'join',\n",
       " 'ljust',\n",
       " 'lower',\n",
       " 'lstrip',\n",
       " 'maketrans',\n",
       " 'partition',\n",
       " 'removeprefix',\n",
       " 'removesuffix',\n",
       " 'replace',\n",
       " 'rfind',\n",
       " 'rindex',\n",
       " 'rjust',\n",
       " 'rpartition',\n",
       " 'rsplit',\n",
       " 'rstrip',\n",
       " 'split',\n",
       " 'splitlines',\n",
       " 'startswith',\n",
       " 'strip',\n",
       " 'swapcase',\n",
       " 'title',\n",
       " 'translate',\n",
       " 'upper',\n",
       " 'zfill']"
      ]
     },
     "execution_count": 67,
     "metadata": {},
     "output_type": "execute_result"
    }
   ],
   "source": [
    "dir(str)"
   ]
  },
  {
   "cell_type": "code",
   "execution_count": 68,
   "id": "8cf34c3e",
   "metadata": {},
   "outputs": [
    {
     "data": {
      "text/plain": [
       "['__abs__',\n",
       " '__add__',\n",
       " '__and__',\n",
       " '__bool__',\n",
       " '__ceil__',\n",
       " '__class__',\n",
       " '__delattr__',\n",
       " '__dir__',\n",
       " '__divmod__',\n",
       " '__doc__',\n",
       " '__eq__',\n",
       " '__float__',\n",
       " '__floor__',\n",
       " '__floordiv__',\n",
       " '__format__',\n",
       " '__ge__',\n",
       " '__getattribute__',\n",
       " '__getnewargs__',\n",
       " '__gt__',\n",
       " '__hash__',\n",
       " '__index__',\n",
       " '__init__',\n",
       " '__init_subclass__',\n",
       " '__int__',\n",
       " '__invert__',\n",
       " '__le__',\n",
       " '__lshift__',\n",
       " '__lt__',\n",
       " '__mod__',\n",
       " '__mul__',\n",
       " '__ne__',\n",
       " '__neg__',\n",
       " '__new__',\n",
       " '__or__',\n",
       " '__pos__',\n",
       " '__pow__',\n",
       " '__radd__',\n",
       " '__rand__',\n",
       " '__rdivmod__',\n",
       " '__reduce__',\n",
       " '__reduce_ex__',\n",
       " '__repr__',\n",
       " '__rfloordiv__',\n",
       " '__rlshift__',\n",
       " '__rmod__',\n",
       " '__rmul__',\n",
       " '__ror__',\n",
       " '__round__',\n",
       " '__rpow__',\n",
       " '__rrshift__',\n",
       " '__rshift__',\n",
       " '__rsub__',\n",
       " '__rtruediv__',\n",
       " '__rxor__',\n",
       " '__setattr__',\n",
       " '__sizeof__',\n",
       " '__str__',\n",
       " '__sub__',\n",
       " '__subclasshook__',\n",
       " '__truediv__',\n",
       " '__trunc__',\n",
       " '__xor__',\n",
       " 'as_integer_ratio',\n",
       " 'bit_length',\n",
       " 'conjugate',\n",
       " 'denominator',\n",
       " 'from_bytes',\n",
       " 'imag',\n",
       " 'numerator',\n",
       " 'real',\n",
       " 'to_bytes']"
      ]
     },
     "execution_count": 68,
     "metadata": {},
     "output_type": "execute_result"
    }
   ],
   "source": [
    "dir(int)"
   ]
  },
  {
   "cell_type": "code",
   "execution_count": 69,
   "id": "9a41db41",
   "metadata": {},
   "outputs": [],
   "source": [
    "a = 55"
   ]
  },
  {
   "cell_type": "code",
   "execution_count": 70,
   "id": "10d498e1",
   "metadata": {},
   "outputs": [
    {
     "data": {
      "text/plain": [
       "60"
      ]
     },
     "execution_count": 70,
     "metadata": {},
     "output_type": "execute_result"
    }
   ],
   "source": [
    "a+5"
   ]
  },
  {
   "cell_type": "code",
   "execution_count": 71,
   "id": "493b171e",
   "metadata": {},
   "outputs": [
    {
     "data": {
      "text/plain": [
       "60"
      ]
     },
     "execution_count": 71,
     "metadata": {},
     "output_type": "execute_result"
    }
   ],
   "source": [
    "a.__add__(5)"
   ]
  },
  {
   "cell_type": "code",
   "execution_count": 72,
   "id": "78123223",
   "metadata": {},
   "outputs": [],
   "source": [
    "class dunder:\n",
    "    \n",
    "    def __init__(self):\n",
    "        print(\"this is my init\")"
   ]
  },
  {
   "cell_type": "code",
   "execution_count": 73,
   "id": "187e64a7",
   "metadata": {},
   "outputs": [
    {
     "name": "stdout",
     "output_type": "stream",
     "text": [
      "this is my init\n"
     ]
    }
   ],
   "source": [
    "dun0 = dunder()"
   ]
  },
  {
   "cell_type": "code",
   "execution_count": 74,
   "id": "3b613579",
   "metadata": {},
   "outputs": [],
   "source": [
    " class dunder:\n",
    "        \n",
    "        def __new__(cls):\n",
    "            print(\"this is my new\")\n",
    "        \n",
    "        def __init__(self):\n",
    "            print(\"this is my init \")\n",
    "        "
   ]
  },
  {
   "cell_type": "code",
   "execution_count": 75,
   "id": "0a73dd17",
   "metadata": {},
   "outputs": [
    {
     "name": "stdout",
     "output_type": "stream",
     "text": [
      "this is my new\n"
     ]
    }
   ],
   "source": [
    "dun = dunder()"
   ]
  },
  {
   "cell_type": "code",
   "execution_count": 76,
   "id": "08882138",
   "metadata": {},
   "outputs": [],
   "source": [
    "class dunder1:\n",
    "    \n",
    "    def __init__(self):\n",
    "        self.mobile_number = 9876545679\n",
    "        \n",
    "    def __str__(self):\n",
    "        return (\"this is my magic call/dunder function\")"
   ]
  },
  {
   "cell_type": "code",
   "execution_count": 77,
   "id": "2008e318",
   "metadata": {},
   "outputs": [],
   "source": [
    "dun1 = dunder1()"
   ]
  },
  {
   "cell_type": "code",
   "execution_count": 78,
   "id": "e7250822",
   "metadata": {},
   "outputs": [
    {
     "data": {
      "text/plain": [
       "<__main__.dunder1 at 0x2b343d3cc70>"
      ]
     },
     "execution_count": 78,
     "metadata": {},
     "output_type": "execute_result"
    }
   ],
   "source": [
    "dun1"
   ]
  },
  {
   "cell_type": "code",
   "execution_count": 79,
   "id": "bbcac181",
   "metadata": {},
   "outputs": [
    {
     "name": "stdout",
     "output_type": "stream",
     "text": [
      "this is my magic call/dunder function\n"
     ]
    }
   ],
   "source": [
    "print(dun1)"
   ]
  },
  {
   "cell_type": "code",
   "execution_count": null,
   "id": "3d752af5",
   "metadata": {},
   "outputs": [],
   "source": []
  },
  {
   "cell_type": "code",
   "execution_count": 80,
   "id": "45507192",
   "metadata": {},
   "outputs": [],
   "source": [
    "class property_course:\n",
    "    \n",
    "    def __init__(self,course_price,course_name):\n",
    "        \n",
    "        self.__course_price = course_price\n",
    "        self.course_name = course_name\n",
    "        \n",
    "    def change_course_price(self,new_price):\n",
    "        \n",
    "        self.course_price = new_price\n",
    "        \n",
    "    def show_info_course(self):\n",
    "        \n",
    "        print(self.course_price,self.course_name)\n",
    "        \n",
    "        \n",
    "    "
   ]
  },
  {
   "cell_type": "code",
   "execution_count": 81,
   "id": "0735ce41",
   "metadata": {},
   "outputs": [],
   "source": [
    "pro_c = property_course(3500,'Data sciene masters')"
   ]
  },
  {
   "cell_type": "code",
   "execution_count": 82,
   "id": "b1404539",
   "metadata": {},
   "outputs": [
    {
     "data": {
      "text/plain": [
       "'Data sciene masters'"
      ]
     },
     "execution_count": 82,
     "metadata": {},
     "output_type": "execute_result"
    }
   ],
   "source": [
    "pro_c.course_name"
   ]
  },
  {
   "cell_type": "code",
   "execution_count": 83,
   "id": "a5c8d7fe",
   "metadata": {},
   "outputs": [],
   "source": [
    "pro_c.change_course_price(5000)"
   ]
  },
  {
   "cell_type": "code",
   "execution_count": 84,
   "id": "9356aad7",
   "metadata": {},
   "outputs": [
    {
     "name": "stdout",
     "output_type": "stream",
     "text": [
      "5000 Data sciene masters\n"
     ]
    }
   ],
   "source": [
    "pro_c.show_info_course()"
   ]
  },
  {
   "cell_type": "code",
   "execution_count": 85,
   "id": "5e3202d8",
   "metadata": {},
   "outputs": [],
   "source": [
    "class pwskills:\n",
    "    \n",
    "    def __init__(self,course_name,course_price):\n",
    "        self.course_name = course_name\n",
    "        self.__course_price = course_price\n",
    "    @property    \n",
    "    def access_course_price(self):\n",
    "        return self.__course_price\n",
    "    \n",
    "    @access_course_price.setter\n",
    "    def set_course_price(self,value):\n",
    "        if value <= 3500:\n",
    "            pass\n",
    "        else:\n",
    "            self.__course_price = value\n",
    "    @access_course_price.getter       \n",
    "    def get_course_price(self):\n",
    "        return self.__course_price,self.course_name\n",
    "    \n",
    "    @access_course_price.deleter\n",
    "    def delete_course_price(self):\n",
    "        del self.__course_price\n",
    "        \n",
    "\n",
    "    "
   ]
  },
  {
   "cell_type": "code",
   "execution_count": 86,
   "id": "76189dbb",
   "metadata": {},
   "outputs": [],
   "source": [
    "pw = pwskills('data science masters',4000)"
   ]
  },
  {
   "cell_type": "code",
   "execution_count": 87,
   "id": "e5d76dfa",
   "metadata": {},
   "outputs": [
    {
     "data": {
      "text/plain": [
       "'data science masters'"
      ]
     },
     "execution_count": 87,
     "metadata": {},
     "output_type": "execute_result"
    }
   ],
   "source": [
    "pw.course_name"
   ]
  },
  {
   "cell_type": "code",
   "execution_count": 88,
   "id": "65f656c0",
   "metadata": {},
   "outputs": [
    {
     "data": {
      "text/plain": [
       "4000"
      ]
     },
     "execution_count": 88,
     "metadata": {},
     "output_type": "execute_result"
    }
   ],
   "source": [
    "pw.access_course_price"
   ]
  },
  {
   "cell_type": "code",
   "execution_count": 89,
   "id": "9fa3abdb",
   "metadata": {},
   "outputs": [],
   "source": [
    "pw.set_course_price = 5500"
   ]
  },
  {
   "cell_type": "code",
   "execution_count": 90,
   "id": "0af8435b",
   "metadata": {},
   "outputs": [
    {
     "data": {
      "text/plain": [
       "5500"
      ]
     },
     "execution_count": 90,
     "metadata": {},
     "output_type": "execute_result"
    }
   ],
   "source": [
    "pw.access_course_price"
   ]
  },
  {
   "cell_type": "code",
   "execution_count": 91,
   "id": "a9ec98b5",
   "metadata": {},
   "outputs": [
    {
     "data": {
      "text/plain": [
       "(5500, 'data science masters')"
      ]
     },
     "execution_count": 91,
     "metadata": {},
     "output_type": "execute_result"
    }
   ],
   "source": [
    "pw.get_course_price"
   ]
  },
  {
   "cell_type": "code",
   "execution_count": 92,
   "id": "53c8b45b",
   "metadata": {},
   "outputs": [],
   "source": [
    "del pw.delete_course_price"
   ]
  },
  {
   "cell_type": "code",
   "execution_count": 93,
   "id": "4e4465f0",
   "metadata": {},
   "outputs": [
    {
     "ename": "AttributeError",
     "evalue": "'pwskills' object has no attribute '_pwskills__course_price'",
     "output_type": "error",
     "traceback": [
      "\u001b[1;31m---------------------------------------------------------------------------\u001b[0m",
      "\u001b[1;31mAttributeError\u001b[0m                            Traceback (most recent call last)",
      "Cell \u001b[1;32mIn[93], line 1\u001b[0m\n\u001b[1;32m----> 1\u001b[0m \u001b[43mpw\u001b[49m\u001b[38;5;241;43m.\u001b[39;49m\u001b[43maccess_course_price\u001b[49m\n",
      "Cell \u001b[1;32mIn[85], line 8\u001b[0m, in \u001b[0;36mpwskills.access_course_price\u001b[1;34m(self)\u001b[0m\n\u001b[0;32m      6\u001b[0m \u001b[38;5;129m@property\u001b[39m    \n\u001b[0;32m      7\u001b[0m \u001b[38;5;28;01mdef\u001b[39;00m \u001b[38;5;21maccess_course_price\u001b[39m(\u001b[38;5;28mself\u001b[39m):\n\u001b[1;32m----> 8\u001b[0m     \u001b[38;5;28;01mreturn\u001b[39;00m \u001b[38;5;28;43mself\u001b[39;49m\u001b[38;5;241;43m.\u001b[39;49m\u001b[43m__course_price\u001b[49m\n",
      "\u001b[1;31mAttributeError\u001b[0m: 'pwskills' object has no attribute '_pwskills__course_price'"
     ]
    }
   ],
   "source": [
    "pw.access_course_price"
   ]
  }
 ],
 "metadata": {
  "kernelspec": {
   "display_name": "Python 3 (ipykernel)",
   "language": "python",
   "name": "python3"
  },
  "language_info": {
   "codemirror_mode": {
    "name": "ipython",
    "version": 3
   },
   "file_extension": ".py",
   "mimetype": "text/x-python",
   "name": "python",
   "nbconvert_exporter": "python",
   "pygments_lexer": "ipython3",
   "version": "3.9.16"
  }
 },
 "nbformat": 4,
 "nbformat_minor": 5
}
