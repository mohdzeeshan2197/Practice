{
 "cells": [
  {
   "cell_type": "markdown",
   "id": "cd3dcae8",
   "metadata": {},
   "source": [
    "##### You are writing code for a company. The requirement of the company is that you create a python function that will check whether the password entered by the user is correct or not. The function should take the password as input and return the string “Valid Password” if the entered password follows the below-given password guidelines else it should return “Invalid Password”.\n",
    "\n",
    "\n",
    "Note:\n",
    "1. The Password should contain at least two uppercase letters and at least two lowercase letters.\n",
    "2. The Password should contain at least a number and three special characters.\n",
    "3. The length of the password should be 10 characters long."
   ]
  },
  {
   "cell_type": "code",
   "execution_count": 15,
   "id": "9816fb4c",
   "metadata": {},
   "outputs": [],
   "source": [
    "def password_checker(pswd):\n",
    "\n",
    "    '''THIS FUNCTION CHECK YOUR PASSWORD: The Password should contain at least two uppercase letters and at least two lowercase letters.\n",
    "The Password should contain at least a number and three special characters.\n",
    "The length of the password should be 10 characters long. '''\n",
    "    \n",
    "    special_char = \"!@#$%^&*\"\n",
    "    special_count = 0\n",
    "    upper_count = 0\n",
    "    lower_count = 0\n",
    "    digit_count = 0\n",
    "\n",
    "    for char in pswd:\n",
    "        if char.isupper():\n",
    "            upper_count += 1\n",
    "        \n",
    "        elif char.islower():\n",
    "            lower_count += 1\n",
    "\n",
    "        elif char.isdigit():\n",
    "            digit_count += 1\n",
    "\n",
    "        elif char in special_char:\n",
    "            special_count += 1\n",
    "\n",
    "    if upper_count >= 2 and lower_count >= 2 and digit_count >= 1 and special_count >= 3 and len(pswd) >= 10:\n",
    "        return \"Valid Password\"\n",
    "    else:\n",
    "        return \"Invalid Password\"\n"
   ]
  },
  {
   "cell_type": "code",
   "execution_count": 21,
   "id": "b2e217be",
   "metadata": {},
   "outputs": [
    {
     "data": {
      "text/plain": [
       "'Valid Password'"
      ]
     },
     "execution_count": 21,
     "metadata": {},
     "output_type": "execute_result"
    }
   ],
   "source": [
    "password_checker('12HYuh@#$5')"
   ]
  },
  {
   "cell_type": "code",
   "execution_count": 23,
   "id": "5c419dcf",
   "metadata": {},
   "outputs": [
    {
     "data": {
      "text/plain": [
       "'Invalid Password'"
      ]
     },
     "execution_count": 23,
     "metadata": {},
     "output_type": "execute_result"
    }
   ],
   "source": [
    "password_checker('55555555')"
   ]
  },
  {
   "cell_type": "code",
   "execution_count": 24,
   "id": "09135144",
   "metadata": {},
   "outputs": [
    {
     "data": {
      "text/plain": [
       "'Invalid Password'"
      ]
     },
     "execution_count": 24,
     "metadata": {},
     "output_type": "execute_result"
    }
   ],
   "source": [
    "password_checker('hagajghdnk@8')"
   ]
  },
  {
   "cell_type": "markdown",
   "id": "f655b5fd",
   "metadata": {},
   "source": [
    "#### Solve the below-given questions using at least one of the following:\n",
    "1. Lambda functioJ\n",
    "\n",
    "2. Filter functioJ\n",
    "\n",
    "3. Zap functioJ\n",
    "\n",
    "4. List ComprehensioI\n",
    "\n",
    "B Check if the string starts with a particular letter\n",
    "B Check if the string is numericY\n",
    "B Sort a list of tuples having fruit names and their quantity. [(\"mango\",99),(\"orange\",80), (\"grapes\", 1000)-\n",
    "B Find the squares of numbers from 1 to 10Y\n",
    "B Find the cube root of numbers from 1 to 10Y\n",
    "B Check if a given number is evenY\n",
    "B Filter odd numbers from the given list.\n",
    "[1,2,3,4,5,6,7,8,9,10-\n",
    "B Sort a list of integers into positive and negative integers lists.\n",
    "\n",
    "[1,2,3,4,5,6,-1,-2,-3,-4,-5,0]"
   ]
  },
  {
   "cell_type": "code",
   "execution_count": 53,
   "id": "15739495",
   "metadata": {},
   "outputs": [],
   "source": [
    "x = lambda s : s.isnumeric()"
   ]
  },
  {
   "cell_type": "code",
   "execution_count": 55,
   "id": "ddc275f2",
   "metadata": {},
   "outputs": [
    {
     "data": {
      "text/plain": [
       "True"
      ]
     },
     "execution_count": 55,
     "metadata": {},
     "output_type": "execute_result"
    }
   ],
   "source": [
    "x('234')"
   ]
  },
  {
   "cell_type": "code",
   "execution_count": 56,
   "id": "f34bae44",
   "metadata": {},
   "outputs": [
    {
     "data": {
      "text/plain": [
       "False"
      ]
     },
     "execution_count": 56,
     "metadata": {},
     "output_type": "execute_result"
    }
   ],
   "source": [
    "x('hello')"
   ]
  },
  {
   "cell_type": "code",
   "execution_count": 64,
   "id": "2c95a77e",
   "metadata": {},
   "outputs": [],
   "source": [
    "l = [(\"mango\",99),(\"orange\",80), (\"grapes\", 1000)]"
   ]
  },
  {
   "cell_type": "code",
   "execution_count": 65,
   "id": "ba8962e2",
   "metadata": {},
   "outputs": [
    {
     "data": {
      "text/plain": [
       "[('orange', 80), ('mango', 99), ('grapes', 1000)]"
      ]
     },
     "execution_count": 65,
     "metadata": {},
     "output_type": "execute_result"
    }
   ],
   "source": [
    "sorted(l, key= lambda x : x[1])"
   ]
  },
  {
   "cell_type": "code",
   "execution_count": 66,
   "id": "8245c49d",
   "metadata": {},
   "outputs": [
    {
     "data": {
      "text/plain": [
       "[1, 4, 9, 16, 25, 36, 49, 64, 81, 100]"
      ]
     },
     "execution_count": 66,
     "metadata": {},
     "output_type": "execute_result"
    }
   ],
   "source": [
    "[i **2 for i in range(1,11)]"
   ]
  },
  {
   "cell_type": "code",
   "execution_count": 67,
   "id": "37c8a379",
   "metadata": {},
   "outputs": [
    {
     "data": {
      "text/plain": [
       "[1.0,\n",
       " 1.2599210498948732,\n",
       " 1.4422495703074083,\n",
       " 1.5874010519681994,\n",
       " 1.7099759466766968,\n",
       " 1.8171205928321397,\n",
       " 1.912931182772389,\n",
       " 2.0,\n",
       " 2.080083823051904,\n",
       " 2.154434690031884]"
      ]
     },
     "execution_count": 67,
     "metadata": {},
     "output_type": "execute_result"
    }
   ],
   "source": [
    "[i ** (1/3) for i in range(1,11)]"
   ]
  },
  {
   "cell_type": "code",
   "execution_count": 71,
   "id": "0021d204",
   "metadata": {},
   "outputs": [],
   "source": [
    "even = lambda x: x %2 ==0"
   ]
  },
  {
   "cell_type": "code",
   "execution_count": 73,
   "id": "c958e78e",
   "metadata": {},
   "outputs": [
    {
     "data": {
      "text/plain": [
       "True"
      ]
     },
     "execution_count": 73,
     "metadata": {},
     "output_type": "execute_result"
    }
   ],
   "source": [
    "even(6)"
   ]
  },
  {
   "cell_type": "code",
   "execution_count": 74,
   "id": "a067aa94",
   "metadata": {},
   "outputs": [],
   "source": [
    "l =[1,2,3,4,5,6,7,8,9,10]"
   ]
  },
  {
   "cell_type": "code",
   "execution_count": 75,
   "id": "639b8122",
   "metadata": {},
   "outputs": [
    {
     "data": {
      "text/plain": [
       "[1, 2, 3, 4, 5, 6, 7, 8, 9, 10]"
      ]
     },
     "execution_count": 75,
     "metadata": {},
     "output_type": "execute_result"
    }
   ],
   "source": [
    "l"
   ]
  },
  {
   "cell_type": "code",
   "execution_count": 78,
   "id": "eb1e320f",
   "metadata": {},
   "outputs": [
    {
     "data": {
      "text/plain": [
       "[1, 3, 5, 7, 9]"
      ]
     },
     "execution_count": 78,
     "metadata": {},
     "output_type": "execute_result"
    }
   ],
   "source": [
    "list(filter(lambda x : x % 2 != 0,l))"
   ]
  },
  {
   "cell_type": "code",
   "execution_count": 86,
   "id": "a18790cd",
   "metadata": {},
   "outputs": [],
   "source": [
    "l = [1,2,3,4,5,6,-1,-2,-3,-4,-5,0]"
   ]
  },
  {
   "cell_type": "code",
   "execution_count": 87,
   "id": "53040bbe",
   "metadata": {},
   "outputs": [
    {
     "data": {
      "text/plain": [
       "[1, 2, 3, 4, 5, 6, -1, -2, -3, -4, -5, 0]"
      ]
     },
     "execution_count": 87,
     "metadata": {},
     "output_type": "execute_result"
    }
   ],
   "source": [
    "l"
   ]
  },
  {
   "cell_type": "code",
   "execution_count": 89,
   "id": "e3bbb758",
   "metadata": {},
   "outputs": [],
   "source": [
    "pst_int = list(filter(lambda x : x > 0 ,l))"
   ]
  },
  {
   "cell_type": "code",
   "execution_count": 90,
   "id": "2093155c",
   "metadata": {},
   "outputs": [
    {
     "data": {
      "text/plain": [
       "[1, 2, 3, 4, 5, 6]"
      ]
     },
     "execution_count": 90,
     "metadata": {},
     "output_type": "execute_result"
    }
   ],
   "source": [
    "pst_int"
   ]
  },
  {
   "cell_type": "code",
   "execution_count": 91,
   "id": "2713131b",
   "metadata": {},
   "outputs": [],
   "source": [
    "ngt_int = list(filter(lambda x : x < 0,l))"
   ]
  },
  {
   "cell_type": "code",
   "execution_count": 92,
   "id": "8e979836",
   "metadata": {},
   "outputs": [
    {
     "data": {
      "text/plain": [
       "[-1, -2, -3, -4, -5]"
      ]
     },
     "execution_count": 92,
     "metadata": {},
     "output_type": "execute_result"
    }
   ],
   "source": [
    "ngt_int"
   ]
  }
 ],
 "metadata": {
  "kernelspec": {
   "display_name": "Python 3 (ipykernel)",
   "language": "python",
   "name": "python3"
  },
  "language_info": {
   "codemirror_mode": {
    "name": "ipython",
    "version": 3
   },
   "file_extension": ".py",
   "mimetype": "text/x-python",
   "name": "python",
   "nbconvert_exporter": "python",
   "pygments_lexer": "ipython3",
   "version": "3.9.16"
  }
 },
 "nbformat": 4,
 "nbformat_minor": 5
}
